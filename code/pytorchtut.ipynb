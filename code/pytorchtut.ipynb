{
  "cells": [
    {
      "cell_type": "code",
      "execution_count": null,
      "metadata": {
        "colab": {
          "base_uri": "https://localhost:8080/"
        },
        "id": "Yw3EiXfhHz8x",
        "outputId": "bbe0ee69-24d2-4163-8cdb-4cd62cf12d3f"
      },
      "outputs": [
        {
          "output_type": "stream",
          "name": "stdout",
          "text": [
            "2.3.0+cu121\n"
          ]
        }
      ],
      "source": [
        "import torch\n",
        "import pandas as pd\n",
        "import numpy as np\n",
        "import matplotlib.pyplot as plt\n",
        "print(torch.__version__)"
      ]
    },
    {
      "cell_type": "markdown",
      "metadata": {
        "id": "2350ndU3Hz80"
      },
      "source": [
        "## Tensors"
      ]
    },
    {
      "cell_type": "code",
      "execution_count": null,
      "metadata": {
        "colab": {
          "base_uri": "https://localhost:8080/"
        },
        "id": "7CKq1nr_Hz81",
        "outputId": "fefd8f26-090c-412a-ea56-cb7e5651b5f0"
      },
      "outputs": [
        {
          "output_type": "stream",
          "name": "stdout",
          "text": [
            "Number of dimensions for scalar: 0\n",
            "The size of scalar: torch.Size([])\n"
          ]
        }
      ],
      "source": [
        "scalar = torch.tensor(5)\n",
        "print(f'Number of dimensions for scalar: {scalar.ndim}')\n",
        "print(f'The size of scalar: {scalar.shape}')"
      ]
    },
    {
      "cell_type": "code",
      "execution_count": null,
      "metadata": {
        "colab": {
          "base_uri": "https://localhost:8080/"
        },
        "id": "BXz1wkE1Hz83",
        "outputId": "c7bafaa5-ddba-41b0-90fd-e50996621e3a"
      },
      "outputs": [
        {
          "output_type": "stream",
          "name": "stdout",
          "text": [
            "Number of dimensions for vector: 1\n",
            "The size of vector: torch.Size([4])\n"
          ]
        }
      ],
      "source": [
        "vector = torch.tensor([3, 7, 9, 1])\n",
        "print(f'Number of dimensions for vector: {vector.ndim}')\n",
        "print(f'The size of vector: {vector.shape}')"
      ]
    },
    {
      "cell_type": "code",
      "execution_count": null,
      "metadata": {
        "colab": {
          "base_uri": "https://localhost:8080/"
        },
        "id": "pPvM66fUHz83",
        "outputId": "8ef819b3-e325-44eb-a0b8-78bbab182774"
      },
      "outputs": [
        {
          "output_type": "stream",
          "name": "stdout",
          "text": [
            "Number of dimensions for matrix: 2\n",
            "The size of matrix: torch.Size([3, 4])\n"
          ]
        }
      ],
      "source": [
        "MATRIX = torch.tensor([\n",
        "    [102, 4, 92, 3],\n",
        "    [9, 4, 22, 33],\n",
        "    [3, 8, 10, 143]\n",
        "])\n",
        "print(f'Number of dimensions for matrix: {MATRIX.ndim}')\n",
        "print(f'The size of matrix: {MATRIX.shape}')"
      ]
    },
    {
      "cell_type": "code",
      "execution_count": null,
      "metadata": {
        "colab": {
          "base_uri": "https://localhost:8080/"
        },
        "id": "4SK0JOfeHz84",
        "outputId": "5e083882-d3b3-450b-e0a9-c8051395b08c"
      },
      "outputs": [
        {
          "output_type": "stream",
          "name": "stdout",
          "text": [
            "Number of dimensions for tensor: 3\n",
            "The size of tensor: torch.Size([2, 3, 5])\n"
          ]
        }
      ],
      "source": [
        "TENSOR = torch.tensor([\n",
        "    [\n",
        "        [3, 6, 7, 10, 45],\n",
        "        [1, 3, 5, 12, 41],\n",
        "        [12, 40, 140, 402, 2]\n",
        "    ],\n",
        "    [\n",
        "        [20, 23, 103, 34, 1],\n",
        "        [12, 26, 0, 0, 32],\n",
        "        [34, 21, 56, 23, 5]\n",
        "    ]\n",
        "])\n",
        "print(f'Number of dimensions for tensor: {TENSOR.ndim}')\n",
        "print(f'The size of tensor: {TENSOR.shape}')"
      ]
    },
    {
      "cell_type": "markdown",
      "metadata": {
        "id": "G0miZFwrHz85"
      },
      "source": [
        "## Random Tensors"
      ]
    },
    {
      "cell_type": "code",
      "execution_count": null,
      "metadata": {
        "colab": {
          "base_uri": "https://localhost:8080/"
        },
        "id": "9jeH4uQUHz86",
        "outputId": "a2c74210-d2f4-48d1-96e4-39b783340003"
      },
      "outputs": [
        {
          "output_type": "execute_result",
          "data": {
            "text/plain": [
              "tensor([[0.3102, 0.8457, 0.8214, 0.5714],\n",
              "        [0.0474, 0.4861, 0.3023, 0.9762],\n",
              "        [0.4564, 0.5543, 0.2806, 0.8883]])"
            ]
          },
          "metadata": {},
          "execution_count": 7
        }
      ],
      "source": [
        "random_tensor = torch.rand(size=(3, 4))\n",
        "random_tensor"
      ]
    },
    {
      "cell_type": "markdown",
      "metadata": {
        "id": "Ud1fdvQYHz87"
      },
      "source": [
        "## Tensors w/ Zeros and Ones"
      ]
    },
    {
      "cell_type": "code",
      "execution_count": null,
      "metadata": {
        "colab": {
          "base_uri": "https://localhost:8080/"
        },
        "id": "nH4VVkDlHz88",
        "outputId": "d1f68d70-01a0-4b2f-a0f8-dd7b7c6eb288"
      },
      "outputs": [
        {
          "output_type": "execute_result",
          "data": {
            "text/plain": [
              "tensor([[0., 0., 0., 0.],\n",
              "        [0., 0., 0., 0.],\n",
              "        [0., 0., 0., 0.]])"
            ]
          },
          "metadata": {},
          "execution_count": 8
        }
      ],
      "source": [
        "zeros = torch.zeros(size=(3,4))\n",
        "zeros"
      ]
    },
    {
      "cell_type": "code",
      "execution_count": null,
      "metadata": {
        "colab": {
          "base_uri": "https://localhost:8080/"
        },
        "id": "3sgKfEo3Hz89",
        "outputId": "732fe9ce-9663-4b6d-be69-44acff5869e2"
      },
      "outputs": [
        {
          "output_type": "execute_result",
          "data": {
            "text/plain": [
              "tensor([[1., 1., 1., 1.],\n",
              "        [1., 1., 1., 1.],\n",
              "        [1., 1., 1., 1.]])"
            ]
          },
          "metadata": {},
          "execution_count": 9
        }
      ],
      "source": [
        "ones = torch.ones(size=(3,4))\n",
        "ones"
      ]
    },
    {
      "cell_type": "markdown",
      "metadata": {
        "id": "NZmgTHTNHz8-"
      },
      "source": [
        "## Range of Tensors"
      ]
    },
    {
      "cell_type": "code",
      "execution_count": null,
      "metadata": {
        "colab": {
          "base_uri": "https://localhost:8080/"
        },
        "id": "AgwQ9ShxHz8-",
        "outputId": "83994f52-1fb7-4ad2-cc6c-2ccb4b4d0994"
      },
      "outputs": [
        {
          "output_type": "execute_result",
          "data": {
            "text/plain": [
              "tensor([ 1,  4,  7, 10, 13, 16, 19, 22])"
            ]
          },
          "metadata": {},
          "execution_count": 10
        }
      ],
      "source": [
        "one_to_25_3 = torch.arange(start=1, end=25, step=3)\n",
        "one_to_25_3"
      ]
    },
    {
      "cell_type": "code",
      "execution_count": null,
      "metadata": {
        "colab": {
          "base_uri": "https://localhost:8080/"
        },
        "id": "IRJ7nbhRHz8_",
        "outputId": "1fcd3a1d-9084-4961-8988-3f17ff4aca90"
      },
      "outputs": [
        {
          "output_type": "execute_result",
          "data": {
            "text/plain": [
              "tensor([0, 0, 0, 0, 0, 0, 0, 0])"
            ]
          },
          "metadata": {},
          "execution_count": 11
        }
      ],
      "source": [
        "torch.zeros_like(input=one_to_25_3)"
      ]
    },
    {
      "cell_type": "markdown",
      "metadata": {
        "id": "6kWnflMnHz8_"
      },
      "source": [
        "## Tensor Datatypes"
      ]
    },
    {
      "cell_type": "code",
      "execution_count": null,
      "metadata": {
        "colab": {
          "base_uri": "https://localhost:8080/"
        },
        "id": "CjI1kTBzHz8_",
        "outputId": "56fdf0c3-1c24-4ee7-c939-c580089a9a1c"
      },
      "outputs": [
        {
          "output_type": "execute_result",
          "data": {
            "text/plain": [
              "tensor([3, 6, 9])"
            ]
          },
          "metadata": {},
          "execution_count": 12
        }
      ],
      "source": [
        "my_tensor = torch.tensor(data=[3, 6, 9],\n",
        "                         dtype=None,\n",
        "                         device=None, # where the tensor lives (could be cpu, gpu, cuda, tpu, etc)\n",
        "                         requires_grad=False) # whether we are keeping track of gradient\n",
        "my_tensor"
      ]
    },
    {
      "cell_type": "code",
      "execution_count": null,
      "metadata": {
        "colab": {
          "base_uri": "https://localhost:8080/"
        },
        "id": "MRiZihnUHz9A",
        "outputId": "83e9a1db-9de6-48a3-e360-fe5d2ce7fe31"
      },
      "outputs": [
        {
          "output_type": "execute_result",
          "data": {
            "text/plain": [
              "tensor([3., 6., 9.], dtype=torch.float16)"
            ]
          },
          "metadata": {},
          "execution_count": 13
        }
      ],
      "source": [
        "my_16_bit_tensor = my_tensor.type(dtype=torch.float16)\n",
        "my_16_bit_tensor"
      ]
    },
    {
      "cell_type": "markdown",
      "metadata": {
        "id": "kC9OMqGnHz9A"
      },
      "source": [
        "## Tensor Attributes\n",
        "The main tensor attributes to know are `.dtype`, `.shape`, and `.device`"
      ]
    },
    {
      "cell_type": "markdown",
      "metadata": {
        "id": "WKpCPqd9Hz9A"
      },
      "source": [
        "## Tensor Operations"
      ]
    },
    {
      "cell_type": "code",
      "execution_count": null,
      "metadata": {
        "colab": {
          "base_uri": "https://localhost:8080/"
        },
        "id": "6HSE53QfHz9A",
        "outputId": "6af511b1-9641-4f75-8973-ed33a6820d49"
      },
      "outputs": [
        {
          "output_type": "stream",
          "name": "stdout",
          "text": [
            "tensor a: tensor([ 1,  3,  5,  7,  9, 11, 13, 15, 17, 19])\n",
            "tensor b: tensor([ 1,  2,  3,  4,  5,  6,  7,  8,  9, 10])\n",
            "adding tensor a and tensor b: tensor([ 2,  5,  8, 11, 14, 17, 20, 23, 26, 29])\n"
          ]
        }
      ],
      "source": [
        "# addition\n",
        "tensor_a = torch.arange(1, 20, 2)\n",
        "tensor_b = torch.arange(1, 11, 1)\n",
        "print(f'tensor a: {tensor_a}')\n",
        "print(f'tensor b: {tensor_b}')\n",
        "print(f'adding tensor a and tensor b: {torch.add(tensor_a, tensor_b)}')"
      ]
    },
    {
      "cell_type": "code",
      "execution_count": null,
      "metadata": {
        "colab": {
          "base_uri": "https://localhost:8080/"
        },
        "id": "uwFkA8jLHz9B",
        "outputId": "1793426c-7c77-4785-cc50-b11bc5c3dced"
      },
      "outputs": [
        {
          "output_type": "stream",
          "name": "stdout",
          "text": [
            "tensor a: tensor([ 1,  3,  5,  7,  9, 11, 13, 15, 17, 19])\n",
            "tensor b: tensor([ 1,  2,  3,  4,  5,  6,  7,  8,  9, 10])\n",
            "subtracting tensor a and tensor b: tensor([0, 1, 2, 3, 4, 5, 6, 7, 8, 9])\n"
          ]
        }
      ],
      "source": [
        "# subtraction\n",
        "print(f'tensor a: {tensor_a}')\n",
        "print(f'tensor b: {tensor_b}')\n",
        "print(f'subtracting tensor a and tensor b: {torch.subtract(tensor_a, tensor_b)}')"
      ]
    },
    {
      "cell_type": "code",
      "execution_count": null,
      "metadata": {
        "colab": {
          "base_uri": "https://localhost:8080/"
        },
        "id": "1twok2vCHz9C",
        "outputId": "1aa614bf-eab0-442d-fdc9-bf09eec3df29"
      },
      "outputs": [
        {
          "output_type": "stream",
          "name": "stdout",
          "text": [
            "tensor a: tensor([ 1,  3,  5,  7,  9, 11, 13, 15, 17, 19])\n",
            "tensor b: tensor([ 1,  2,  3,  4,  5,  6,  7,  8,  9, 10])\n",
            "subtracting tensor a and tensor b: tensor([  1,   6,  15,  28,  45,  66,  91, 120, 153, 190])\n"
          ]
        }
      ],
      "source": [
        "# scalar multip.\n",
        "print(f'tensor a: {tensor_a}')\n",
        "print(f'tensor b: {tensor_b}')\n",
        "print(f'subtracting tensor a and tensor b: {torch.multiply(tensor_a, tensor_b)}')"
      ]
    },
    {
      "cell_type": "code",
      "execution_count": null,
      "metadata": {
        "colab": {
          "base_uri": "https://localhost:8080/"
        },
        "id": "HDFroYJtHz9C",
        "outputId": "7a0c3cb8-38a6-4a75-9411-de36ac4660a0"
      },
      "outputs": [
        {
          "output_type": "stream",
          "name": "stdout",
          "text": [
            "tensor a: tensor([[0.7144, 0.1995],\n",
            "        [0.4107, 0.5123],\n",
            "        [0.9097, 0.7384]])\n",
            "tensor b: tensor([[0.1204, 0.7435, 0.3887],\n",
            "        [0.1002, 0.9581, 0.8049]])\n",
            "matrix multiplying tensor a and tensor b: tensor([[0.1060, 0.7223, 0.4383],\n",
            "        [0.1008, 0.7962, 0.5720],\n",
            "        [0.1835, 1.3839, 0.9480]])\n"
          ]
        }
      ],
      "source": [
        "# dot product\n",
        "mat1 = torch.rand(size=(3,2))\n",
        "mat2 = torch.rand(size=(2,3))\n",
        "print(f'tensor a: {mat1}')\n",
        "print(f'tensor b: {mat2}')\n",
        "print(f'matrix multiplying tensor a and tensor b: {torch.matmul(mat1, mat2)}')"
      ]
    },
    {
      "cell_type": "markdown",
      "metadata": {
        "id": "XpUgNe4nHz9C"
      },
      "source": [
        "## Transpose"
      ]
    },
    {
      "cell_type": "code",
      "execution_count": null,
      "metadata": {
        "colab": {
          "base_uri": "https://localhost:8080/"
        },
        "id": "oEcr4_ihHz9D",
        "outputId": "fed5b749-209e-408e-db8b-da156bf91831"
      },
      "outputs": [
        {
          "output_type": "stream",
          "name": "stdout",
          "text": [
            "tensor a: tensor([[0.0655, 0.3542],\n",
            "        [0.1731, 0.7256],\n",
            "        [0.3856, 0.2990]])\n",
            "tensor b: tensor([[0.4872, 0.3017],\n",
            "        [0.3233, 0.1569],\n",
            "        [0.6459, 0.2387]])\n",
            "tranpose of b is: tensor([[0.4872, 0.3233, 0.6459],\n",
            "        [0.3017, 0.1569, 0.2387]])\n",
            "matrix multiplying tensor a and tranpose tensor b: tensor([[0.1388, 0.0768, 0.1269],\n",
            "        [0.3033, 0.1698, 0.2849],\n",
            "        [0.2781, 0.1716, 0.3204]])\n"
          ]
        }
      ],
      "source": [
        "mat1 = torch.rand(size=(3,2))\n",
        "mat2 = torch.rand(size=(3,2))\n",
        "print(f'tensor a: {mat1}')\n",
        "print(f'tensor b: {mat2}')\n",
        "print(f'tranpose of b is: {mat2.T}')\n",
        "print(f'matrix multiplying tensor a and tranpose tensor b: {torch.matmul(mat1, mat2.T)}')"
      ]
    },
    {
      "cell_type": "markdown",
      "metadata": {
        "id": "o8gx6w_hHz9D"
      },
      "source": [
        "## Aggregation (min, max, mean, sum, etc.)"
      ]
    },
    {
      "cell_type": "code",
      "execution_count": null,
      "metadata": {
        "colab": {
          "base_uri": "https://localhost:8080/"
        },
        "id": "dyr2_D_HHz9D",
        "outputId": "5f17850d-f79a-4bfb-9413-887c732577bc"
      },
      "outputs": [
        {
          "output_type": "execute_result",
          "data": {
            "text/plain": [
              "tensor([  0,  13,  26,  39,  52,  65,  78,  91, 104, 117, 130, 143])"
            ]
          },
          "metadata": {},
          "execution_count": 19
        }
      ],
      "source": [
        "x = torch.arange(0, 150, 13)\n",
        "x"
      ]
    },
    {
      "cell_type": "code",
      "execution_count": null,
      "metadata": {
        "colab": {
          "base_uri": "https://localhost:8080/"
        },
        "id": "s9GkHhnIHz9D",
        "outputId": "d4c49a7c-d4da-46a8-d6fc-dd0966542217"
      },
      "outputs": [
        {
          "output_type": "execute_result",
          "data": {
            "text/plain": [
              "tensor(0)"
            ]
          },
          "metadata": {},
          "execution_count": 20
        }
      ],
      "source": [
        "# min\n",
        "torch.min(x)"
      ]
    },
    {
      "cell_type": "code",
      "execution_count": null,
      "metadata": {
        "colab": {
          "base_uri": "https://localhost:8080/"
        },
        "id": "KFyKoZfPHz9E",
        "outputId": "5455d4fc-6b13-4e31-b976-4f7ace01a2aa"
      },
      "outputs": [
        {
          "output_type": "execute_result",
          "data": {
            "text/plain": [
              "tensor(143)"
            ]
          },
          "metadata": {},
          "execution_count": 21
        }
      ],
      "source": [
        "# max\n",
        "torch.max(x)"
      ]
    },
    {
      "cell_type": "code",
      "execution_count": null,
      "metadata": {
        "colab": {
          "base_uri": "https://localhost:8080/"
        },
        "id": "ppMjTChOHz9E",
        "outputId": "a612ac3e-3893-4aaa-bfd6-a2358c168619"
      },
      "outputs": [
        {
          "output_type": "execute_result",
          "data": {
            "text/plain": [
              "tensor(71.5000)"
            ]
          },
          "metadata": {},
          "execution_count": 22
        }
      ],
      "source": [
        "# mean --> requires it to be float or complex dtype\n",
        "torch.mean(x.type(torch.float32))"
      ]
    },
    {
      "cell_type": "code",
      "execution_count": null,
      "metadata": {
        "colab": {
          "base_uri": "https://localhost:8080/"
        },
        "id": "G9QSngxhHz9E",
        "outputId": "964ad892-0c55-452e-a18d-b4b584a924ed"
      },
      "outputs": [
        {
          "output_type": "execute_result",
          "data": {
            "text/plain": [
              "tensor(858)"
            ]
          },
          "metadata": {},
          "execution_count": 23
        }
      ],
      "source": [
        "# sum\n",
        "torch.sum(x)"
      ]
    },
    {
      "cell_type": "markdown",
      "metadata": {
        "id": "Kt8M0e4UHz9E"
      },
      "source": [
        "## Positional min/max"
      ]
    },
    {
      "cell_type": "code",
      "execution_count": null,
      "metadata": {
        "colab": {
          "base_uri": "https://localhost:8080/"
        },
        "id": "HJIZcnTiHz9F",
        "outputId": "163559ab-616f-49be-cc8e-9e52bbdf3e64"
      },
      "outputs": [
        {
          "output_type": "stream",
          "name": "stdout",
          "text": [
            "The max value of x is at index 11\n",
            "The min value of x is at index 0\n"
          ]
        }
      ],
      "source": [
        "print(f'The max value of x is at index {x.argmax()}')\n",
        "print(f'The min value of x is at index {x.argmin()}')\n"
      ]
    },
    {
      "cell_type": "markdown",
      "metadata": {
        "id": "Z0aIwc8oHz9F"
      },
      "source": [
        "## Manipulating sizes of tensors"
      ]
    },
    {
      "cell_type": "code",
      "execution_count": null,
      "metadata": {
        "colab": {
          "base_uri": "https://localhost:8080/"
        },
        "id": "kD_l6pDZHz9F",
        "outputId": "db2c974e-8a7b-4a75-87de-1feb5cd09a71"
      },
      "outputs": [
        {
          "output_type": "execute_result",
          "data": {
            "text/plain": [
              "tensor([[[0.8891, 0.6313, 0.3607, 0.9815],\n",
              "         [0.9026, 0.1069, 0.2256, 0.0889]],\n",
              "\n",
              "        [[0.3550, 0.5190, 0.2431, 0.1199],\n",
              "         [0.9147, 0.8241, 0.6365, 0.6135]],\n",
              "\n",
              "        [[0.4296, 0.1176, 0.9161, 0.1689],\n",
              "         [0.6186, 0.6926, 0.6698, 0.2778]]])"
            ]
          },
          "metadata": {},
          "execution_count": 25
        }
      ],
      "source": [
        "tensor = torch.rand(size=(3,2,4))\n",
        "tensor"
      ]
    },
    {
      "cell_type": "code",
      "execution_count": null,
      "metadata": {
        "colab": {
          "base_uri": "https://localhost:8080/"
        },
        "id": "L2iGXPY7Hz9F",
        "outputId": "a9c0cc1f-992d-4657-febb-f9aabecf3555"
      },
      "outputs": [
        {
          "output_type": "execute_result",
          "data": {
            "text/plain": [
              "tensor([[[0.8891, 0.6313],\n",
              "         [0.3607, 0.9815]],\n",
              "\n",
              "        [[0.9026, 0.1069],\n",
              "         [0.2256, 0.0889]],\n",
              "\n",
              "        [[0.3550, 0.5190],\n",
              "         [0.2431, 0.1199]],\n",
              "\n",
              "        [[0.9147, 0.8241],\n",
              "         [0.6365, 0.6135]],\n",
              "\n",
              "        [[0.4296, 0.1176],\n",
              "         [0.9161, 0.1689]],\n",
              "\n",
              "        [[0.6186, 0.6926],\n",
              "         [0.6698, 0.2778]]])"
            ]
          },
          "metadata": {},
          "execution_count": 26
        }
      ],
      "source": [
        "# reshaping --> changes tensor to desired shape if possible\n",
        "tensor.reshape(shape=(6,2,2))"
      ]
    },
    {
      "cell_type": "code",
      "execution_count": null,
      "metadata": {
        "colab": {
          "base_uri": "https://localhost:8080/"
        },
        "id": "ZSn3wJ05Hz9F",
        "outputId": "79c44f58-376b-4b64-ca10-42c5f9de391c"
      },
      "outputs": [
        {
          "output_type": "execute_result",
          "data": {
            "text/plain": [
              "tensor([[[0.8891, 0.6313],\n",
              "         [0.3607, 0.9815]],\n",
              "\n",
              "        [[0.9026, 0.1069],\n",
              "         [0.2256, 0.0889]],\n",
              "\n",
              "        [[0.3550, 0.5190],\n",
              "         [0.2431, 0.1199]],\n",
              "\n",
              "        [[0.9147, 0.8241],\n",
              "         [0.6365, 0.6135]],\n",
              "\n",
              "        [[0.4296, 0.1176],\n",
              "         [0.9161, 0.1689]],\n",
              "\n",
              "        [[0.6186, 0.6926],\n",
              "         [0.6698, 0.2778]]])"
            ]
          },
          "metadata": {},
          "execution_count": 27
        }
      ],
      "source": [
        "# view --> view tensor with the desired size while it shares memory with original tensor\n",
        "tensor.view(size=(6,2,2))"
      ]
    },
    {
      "cell_type": "code",
      "execution_count": null,
      "metadata": {
        "colab": {
          "base_uri": "https://localhost:8080/"
        },
        "id": "5ASSv80NHz9G",
        "outputId": "a43e13d9-0ec6-4589-bd66-9629743dbebf"
      },
      "outputs": [
        {
          "output_type": "execute_result",
          "data": {
            "text/plain": [
              "tensor([[[[0.8891, 0.6313, 0.3607, 0.9815],\n",
              "          [0.9026, 0.1069, 0.2256, 0.0889]],\n",
              "\n",
              "         [[0.3550, 0.5190, 0.2431, 0.1199],\n",
              "          [0.9147, 0.8241, 0.6365, 0.6135]],\n",
              "\n",
              "         [[0.4296, 0.1176, 0.9161, 0.1689],\n",
              "          [0.6186, 0.6926, 0.6698, 0.2778]]],\n",
              "\n",
              "\n",
              "        [[[0.8891, 0.6313, 0.3607, 0.9815],\n",
              "          [0.9026, 0.1069, 0.2256, 0.0889]],\n",
              "\n",
              "         [[0.3550, 0.5190, 0.2431, 0.1199],\n",
              "          [0.9147, 0.8241, 0.6365, 0.6135]],\n",
              "\n",
              "         [[0.4296, 0.1176, 0.9161, 0.1689],\n",
              "          [0.6186, 0.6926, 0.6698, 0.2778]]]])"
            ]
          },
          "metadata": {},
          "execution_count": 28
        }
      ],
      "source": [
        "# stacking --> add tensors along different axes\n",
        "torch.stack(tensors=(tensor, tensor), dim=0) # stacking on dim 0"
      ]
    },
    {
      "cell_type": "code",
      "execution_count": null,
      "metadata": {
        "colab": {
          "base_uri": "https://localhost:8080/"
        },
        "id": "A0nlNWtQHz9G",
        "outputId": "bf705eb7-fa5c-43ad-b8f0-eef771bc02c3"
      },
      "outputs": [
        {
          "output_type": "execute_result",
          "data": {
            "text/plain": [
              "tensor([[[[0.8891, 0.6313, 0.3607, 0.9815],\n",
              "          [0.9026, 0.1069, 0.2256, 0.0889]],\n",
              "\n",
              "         [[0.8891, 0.6313, 0.3607, 0.9815],\n",
              "          [0.9026, 0.1069, 0.2256, 0.0889]]],\n",
              "\n",
              "\n",
              "        [[[0.3550, 0.5190, 0.2431, 0.1199],\n",
              "          [0.9147, 0.8241, 0.6365, 0.6135]],\n",
              "\n",
              "         [[0.3550, 0.5190, 0.2431, 0.1199],\n",
              "          [0.9147, 0.8241, 0.6365, 0.6135]]],\n",
              "\n",
              "\n",
              "        [[[0.4296, 0.1176, 0.9161, 0.1689],\n",
              "          [0.6186, 0.6926, 0.6698, 0.2778]],\n",
              "\n",
              "         [[0.4296, 0.1176, 0.9161, 0.1689],\n",
              "          [0.6186, 0.6926, 0.6698, 0.2778]]]])"
            ]
          },
          "metadata": {},
          "execution_count": 29
        }
      ],
      "source": [
        "# stacking on dim 1\n",
        "torch.stack(tensors=(tensor, tensor), dim=1)"
      ]
    },
    {
      "cell_type": "code",
      "execution_count": null,
      "metadata": {
        "colab": {
          "base_uri": "https://localhost:8080/"
        },
        "id": "vEvoL-NvHz9G",
        "outputId": "f24faf71-b2bd-44ce-9050-f18d4ba6151e"
      },
      "outputs": [
        {
          "output_type": "execute_result",
          "data": {
            "text/plain": [
              "tensor([[[[0.8891, 0.6313, 0.3607, 0.9815],\n",
              "          [0.8891, 0.6313, 0.3607, 0.9815]],\n",
              "\n",
              "         [[0.9026, 0.1069, 0.2256, 0.0889],\n",
              "          [0.9026, 0.1069, 0.2256, 0.0889]]],\n",
              "\n",
              "\n",
              "        [[[0.3550, 0.5190, 0.2431, 0.1199],\n",
              "          [0.3550, 0.5190, 0.2431, 0.1199]],\n",
              "\n",
              "         [[0.9147, 0.8241, 0.6365, 0.6135],\n",
              "          [0.9147, 0.8241, 0.6365, 0.6135]]],\n",
              "\n",
              "\n",
              "        [[[0.4296, 0.1176, 0.9161, 0.1689],\n",
              "          [0.4296, 0.1176, 0.9161, 0.1689]],\n",
              "\n",
              "         [[0.6186, 0.6926, 0.6698, 0.2778],\n",
              "          [0.6186, 0.6926, 0.6698, 0.2778]]]])"
            ]
          },
          "metadata": {},
          "execution_count": 30
        }
      ],
      "source": [
        "# stacking on dim 2\n",
        "torch.stack(\n",
        "    tensors=(tensor, tensor),\n",
        "    dim=2\n",
        ")"
      ]
    },
    {
      "cell_type": "code",
      "execution_count": null,
      "metadata": {
        "colab": {
          "base_uri": "https://localhost:8080/"
        },
        "id": "nfzQzvp-Hz9H",
        "outputId": "715026d1-8d49-46e8-e186-a26e3c029455"
      },
      "outputs": [
        {
          "output_type": "stream",
          "name": "stdout",
          "text": [
            "original shape: torch.Size([1, 2, 4])\n",
            "squeezed shape: torch.Size([2, 4])\n"
          ]
        },
        {
          "output_type": "execute_result",
          "data": {
            "text/plain": [
              "tensor([[ 2,  4,  6,  8],\n",
              "        [ 3,  6,  9, 12]])"
            ]
          },
          "metadata": {},
          "execution_count": 31
        }
      ],
      "source": [
        "# squeeze --> remove dimensions with size 1\n",
        "tensor = torch.tensor(\n",
        "    data=[[[2,4,6,8], [3, 6, 9, 12]]]\n",
        ")\n",
        "print(f'original shape: {tensor.shape}')\n",
        "squeezed_tensor = torch.squeeze(input=tensor)\n",
        "print(f'squeezed shape: {squeezed_tensor.shape}')\n",
        "squeezed_tensor"
      ]
    },
    {
      "cell_type": "code",
      "execution_count": null,
      "metadata": {
        "colab": {
          "base_uri": "https://localhost:8080/"
        },
        "id": "aeAPhM1iHz9H",
        "outputId": "a0771f7b-f789-4d04-ac14-021cdf424a7b"
      },
      "outputs": [
        {
          "output_type": "stream",
          "name": "stdout",
          "text": [
            "tensor when adding 1 to dim 0 : \n",
            "tensor([[[[ 2,  4,  6,  8],\n",
            "          [ 3,  6,  9, 12]]]])\n",
            "shape: torch.Size([1, 1, 2, 4])\n",
            "tensor when adding 1 to dim 1: \n",
            "tensor([[[[ 2,  4,  6,  8],\n",
            "          [ 3,  6,  9, 12]]]])\n",
            "shape: torch.Size([1, 1, 2, 4])\n",
            "tensor when adding 1 to dim 2: \n",
            "tensor([[[[ 2,  4,  6,  8]],\n",
            "\n",
            "         [[ 3,  6,  9, 12]]]])\n",
            "shape: torch.Size([1, 2, 1, 4])\n",
            "tensor when adding 1 to dim 3: \n",
            " tensor([[[[ 2],\n",
            "          [ 4],\n",
            "          [ 6],\n",
            "          [ 8]],\n",
            "\n",
            "         [[ 3],\n",
            "          [ 6],\n",
            "          [ 9],\n",
            "          [12]]]])\n",
            "shape: torch.Size([1, 2, 4, 1])\n"
          ]
        }
      ],
      "source": [
        "# unsqueeze --> add 1 dimension\n",
        "add_dim_0 = torch.unsqueeze(input=tensor, dim=0)\n",
        "print(f'tensor when adding 1 to dim 0 : \\n{add_dim_0}')\n",
        "print(f'shape: {add_dim_0.shape}')\n",
        "add_dim_1 = torch.unsqueeze(input=tensor, dim=1)\n",
        "print(f'tensor when adding 1 to dim 1: \\n{add_dim_1}')\n",
        "print(f'shape: {add_dim_1.shape}')\n",
        "add_dim_2 = torch.unsqueeze(input=tensor, dim=2)\n",
        "print(f'tensor when adding 1 to dim 2: \\n{add_dim_2}')\n",
        "print(f'shape: {add_dim_2.shape}')\n",
        "add_dim_3 = torch.unsqueeze(input=tensor, dim=3)\n",
        "print(f'tensor when adding 1 to dim 3: \\n {add_dim_3}')\n",
        "print(f'shape: {add_dim_3.shape}')\n",
        "\n",
        "\n",
        "\n"
      ]
    },
    {
      "cell_type": "code",
      "execution_count": null,
      "metadata": {
        "colab": {
          "base_uri": "https://localhost:8080/"
        },
        "id": "qvupFDrNHz9H",
        "outputId": "71fd35a2-f35d-47b8-ac61-f6ebe5f9ec49"
      },
      "outputs": [
        {
          "output_type": "execute_result",
          "data": {
            "text/plain": [
              "torch.Size([4, 2, 5])"
            ]
          },
          "metadata": {},
          "execution_count": 33
        }
      ],
      "source": [
        "# permute --> swap dimensions to desired ordering\n",
        "tensor = torch.rand(size=(5,2,4))\n",
        "permuted_tensor = torch.permute(tensor, (2, 1, 0))\n",
        "permuted_tensor.shape"
      ]
    },
    {
      "cell_type": "markdown",
      "metadata": {
        "id": "gWNRV0nZHz9I"
      },
      "source": [
        "## Indexing\n",
        "Works same as NumPy"
      ]
    },
    {
      "cell_type": "code",
      "execution_count": null,
      "metadata": {
        "colab": {
          "base_uri": "https://localhost:8080/"
        },
        "id": "XFpqXy_wHz9I",
        "outputId": "b79dc7c8-b07f-4f57-e8d6-b2bd8b33c9b6"
      },
      "outputs": [
        {
          "output_type": "execute_result",
          "data": {
            "text/plain": [
              "(tensor([[[1, 2, 3],\n",
              "          [4, 5, 6],\n",
              "          [7, 8, 9]]]),\n",
              " torch.Size([1, 3, 3]))"
            ]
          },
          "metadata": {},
          "execution_count": 34
        }
      ],
      "source": [
        "x = torch.arange(1,10).reshape((1,3,3))\n",
        "x, x.shape"
      ]
    },
    {
      "cell_type": "code",
      "execution_count": null,
      "metadata": {
        "colab": {
          "base_uri": "https://localhost:8080/"
        },
        "id": "RDeB5wm6Hz9J",
        "outputId": "8266cd7c-2e8b-40f3-e2bc-24efc861999d"
      },
      "outputs": [
        {
          "output_type": "execute_result",
          "data": {
            "text/plain": [
              "tensor(9)"
            ]
          },
          "metadata": {},
          "execution_count": 35
        }
      ],
      "source": [
        "x[0][2][2]"
      ]
    },
    {
      "cell_type": "code",
      "execution_count": null,
      "metadata": {
        "colab": {
          "base_uri": "https://localhost:8080/"
        },
        "id": "f5s0DF1FHz9J",
        "outputId": "490181be-9f87-40d1-a8ce-db9824c296e0"
      },
      "outputs": [
        {
          "output_type": "execute_result",
          "data": {
            "text/plain": [
              "tensor([3, 6, 9])"
            ]
          },
          "metadata": {},
          "execution_count": 36
        }
      ],
      "source": [
        "x[0,:,2]"
      ]
    },
    {
      "cell_type": "markdown",
      "metadata": {
        "id": "YDixcaAJHz9K"
      },
      "source": [
        "## Torch & NumPy compatability"
      ]
    },
    {
      "cell_type": "code",
      "execution_count": null,
      "metadata": {
        "colab": {
          "base_uri": "https://localhost:8080/"
        },
        "id": "6YFWPGdcHz9K",
        "outputId": "1faf5d42-b981-42d3-9eea-97f849b99f0c"
      },
      "outputs": [
        {
          "output_type": "execute_result",
          "data": {
            "text/plain": [
              "(array([1, 2, 3, 4, 5, 6, 7, 8]),\n",
              " dtype('int64'),\n",
              " tensor([1, 2, 3, 4, 5, 6, 7, 8]),\n",
              " torch.int64)"
            ]
          },
          "metadata": {},
          "execution_count": 37
        }
      ],
      "source": [
        "arr = np.arange(1,9)\n",
        "tensor = torch.from_numpy(arr)\n",
        "arr, arr.dtype, tensor, tensor.dtype"
      ]
    },
    {
      "cell_type": "code",
      "execution_count": null,
      "metadata": {
        "colab": {
          "base_uri": "https://localhost:8080/"
        },
        "id": "T0Qk8wNaHz9L",
        "outputId": "eff0837e-57e0-48ae-f891-b57412fa96f5"
      },
      "outputs": [
        {
          "output_type": "execute_result",
          "data": {
            "text/plain": [
              "array([1., 1., 1.], dtype=float32)"
            ]
          },
          "metadata": {},
          "execution_count": 38
        }
      ],
      "source": [
        "tensor = torch.ones(3)\n",
        "nparr = tensor.numpy()\n",
        "nparr"
      ]
    },
    {
      "cell_type": "markdown",
      "metadata": {
        "id": "uB-ER9izHz9M"
      },
      "source": [
        "## Reproducibility"
      ]
    },
    {
      "cell_type": "code",
      "execution_count": null,
      "metadata": {
        "colab": {
          "base_uri": "https://localhost:8080/"
        },
        "id": "k1VuHetRHz9M",
        "outputId": "c0d1e649-fe18-4bb7-c031-7b39ed120b22"
      },
      "outputs": [
        {
          "output_type": "stream",
          "name": "stdout",
          "text": [
            "tensor([[True, True, True],\n",
            "        [True, True, True]])\n"
          ]
        }
      ],
      "source": [
        "RANDOM_SEED = 42\n",
        "torch.manual_seed(RANDOM_SEED)\n",
        "random_tensor_A = torch.rand((2,3))\n",
        "torch.manual_seed(RANDOM_SEED)\n",
        "random_tensor_B = torch.rand((2,3))\n",
        "print(random_tensor_A == random_tensor_B)"
      ]
    },
    {
      "cell_type": "markdown",
      "source": [
        "### GPU Info"
      ],
      "metadata": {
        "id": "T5L2xyl6JVb7"
      }
    },
    {
      "cell_type": "code",
      "source": [
        "!nvidia-smi"
      ],
      "metadata": {
        "colab": {
          "base_uri": "https://localhost:8080/"
        },
        "id": "k3kH5PRrJZvd",
        "outputId": "8df39242-7796-410c-8da1-ec8e86295602"
      },
      "execution_count": null,
      "outputs": [
        {
          "output_type": "stream",
          "name": "stdout",
          "text": [
            "Sat Jun 15 23:07:09 2024       \n",
            "+---------------------------------------------------------------------------------------+\n",
            "| NVIDIA-SMI 535.104.05             Driver Version: 535.104.05   CUDA Version: 12.2     |\n",
            "|-----------------------------------------+----------------------+----------------------+\n",
            "| GPU  Name                 Persistence-M | Bus-Id        Disp.A | Volatile Uncorr. ECC |\n",
            "| Fan  Temp   Perf          Pwr:Usage/Cap |         Memory-Usage | GPU-Util  Compute M. |\n",
            "|                                         |                      |               MIG M. |\n",
            "|=========================================+======================+======================|\n",
            "|   0  Tesla T4                       Off | 00000000:00:04.0 Off |                    0 |\n",
            "| N/A   64C    P8              13W /  70W |      0MiB / 15360MiB |      0%      Default |\n",
            "|                                         |                      |                  N/A |\n",
            "+-----------------------------------------+----------------------+----------------------+\n",
            "                                                                                         \n",
            "+---------------------------------------------------------------------------------------+\n",
            "| Processes:                                                                            |\n",
            "|  GPU   GI   CI        PID   Type   Process name                            GPU Memory |\n",
            "|        ID   ID                                                             Usage      |\n",
            "|=======================================================================================|\n",
            "|  No running processes found                                                           |\n",
            "+---------------------------------------------------------------------------------------+\n"
          ]
        }
      ]
    },
    {
      "cell_type": "code",
      "source": [
        "import torch\n",
        "torch.cuda.is_available()"
      ],
      "metadata": {
        "colab": {
          "base_uri": "https://localhost:8080/"
        },
        "id": "fje-iIiNKKJL",
        "outputId": "1d492924-bce4-49df-83aa-5e3d80bf1084"
      },
      "execution_count": null,
      "outputs": [
        {
          "output_type": "execute_result",
          "data": {
            "text/plain": [
              "True"
            ]
          },
          "metadata": {},
          "execution_count": 2
        }
      ]
    },
    {
      "cell_type": "code",
      "source": [
        "# device agnostic code!\n",
        "device = 'cuda' if torch.cuda.is_available() else 'cpu'\n",
        "device"
      ],
      "metadata": {
        "colab": {
          "base_uri": "https://localhost:8080/",
          "height": 36
        },
        "id": "PE2vA8XbKZT0",
        "outputId": "b410863e-5e5f-452d-bdd7-58feecd538d7"
      },
      "execution_count": null,
      "outputs": [
        {
          "output_type": "execute_result",
          "data": {
            "text/plain": [
              "'cuda'"
            ],
            "application/vnd.google.colaboratory.intrinsic+json": {
              "type": "string"
            }
          },
          "metadata": {},
          "execution_count": 4
        }
      ]
    },
    {
      "cell_type": "code",
      "source": [
        "tensor = torch.tensor([1,2,3])\n",
        "print(tensor, tensor.device)"
      ],
      "metadata": {
        "colab": {
          "base_uri": "https://localhost:8080/"
        },
        "id": "dhMtNZ_NLyGg",
        "outputId": "d9737195-c47a-4942-fb7f-04f86679de51"
      },
      "execution_count": null,
      "outputs": [
        {
          "output_type": "stream",
          "name": "stdout",
          "text": [
            "tensor([1, 2, 3]) cpu\n"
          ]
        }
      ]
    },
    {
      "cell_type": "code",
      "source": [
        "tensor_gpu = tensor.to(device)\n",
        "tensor_gpu"
      ],
      "metadata": {
        "colab": {
          "base_uri": "https://localhost:8080/"
        },
        "id": "AdjaaV8vL8BK",
        "outputId": "4eeb46c7-5eb5-4e75-e17b-00d05ed4814e"
      },
      "execution_count": null,
      "outputs": [
        {
          "output_type": "execute_result",
          "data": {
            "text/plain": [
              "tensor([1, 2, 3], device='cuda:0')"
            ]
          },
          "metadata": {},
          "execution_count": 6
        }
      ]
    },
    {
      "cell_type": "code",
      "source": [
        "# moving gpu tensor back to numpy\n",
        "tensor_cpu = tensor_gpu.cpu().numpy()\n",
        "tensor_cpu"
      ],
      "metadata": {
        "colab": {
          "base_uri": "https://localhost:8080/"
        },
        "id": "ZC7LT5yAMFJU",
        "outputId": "cd0cdc28-9b61-40d8-9708-75f97b69eb73"
      },
      "execution_count": null,
      "outputs": [
        {
          "output_type": "execute_result",
          "data": {
            "text/plain": [
              "array([1, 2, 3])"
            ]
          },
          "metadata": {},
          "execution_count": 7
        }
      ]
    }
  ],
  "metadata": {
    "kernelspec": {
      "display_name": "Python 3",
      "name": "python3"
    },
    "language_info": {
      "codemirror_mode": {
        "name": "ipython",
        "version": 3
      },
      "file_extension": ".py",
      "mimetype": "text/x-python",
      "name": "python",
      "nbconvert_exporter": "python",
      "pygments_lexer": "ipython3",
      "version": "3.9.12"
    },
    "colab": {
      "provenance": [],
      "gpuType": "T4"
    },
    "accelerator": "GPU"
  },
  "nbformat": 4,
  "nbformat_minor": 0
}