{
 "cells": [
  {
   "cell_type": "code",
   "execution_count": 6,
   "id": "cd856243",
   "metadata": {},
   "outputs": [],
   "source": [
    "import requests\n",
    "import pandas as pd"
   ]
  },
  {
   "cell_type": "code",
   "execution_count": 7,
   "id": "40dbcaa9",
   "metadata": {},
   "outputs": [
    {
     "name": "stdout",
     "output_type": "stream",
     "text": [
      "{'statusCode': 200, 'body': {'adpDate': '20240601', 'adpType': 'PPR', 'adpList': [{'posADP': 'RB1', 'overallADP': '1.0', 'playerID': '3117251', 'longName': 'Christian McCaffrey'}, {'posADP': 'WR1', 'overallADP': '2.0', 'playerID': '4241389', 'longName': 'CeeDee Lamb'}, {'posADP': 'WR2', 'overallADP': '3.0', 'playerID': '3116406', 'longName': 'Tyreek Hill'}, {'posADP': 'WR3', 'overallADP': '4.0', 'playerID': '4362628', 'longName': \"Ja'Marr Chase\"}, {'posADP': 'WR4', 'overallADP': '5.5', 'playerID': '4262921', 'longName': 'Justin Jefferson'}, {'posADP': 'RB2', 'overallADP': '6.0', 'playerID': '4430807', 'longName': 'Bijan Robinson'}, {'posADP': 'WR5', 'overallADP': '7.0', 'playerID': '4374302', 'longName': 'Amon-Ra St. Brown'}, {'posADP': 'RB3', 'overallADP': '7.5', 'playerID': '4427366', 'longName': 'Breece Hall'}, {'posADP': 'WR6', 'overallADP': '9.0', 'playerID': '4426515', 'longName': 'Puka Nacua'}, {'posADP': 'WR7', 'overallADP': '10.0', 'playerID': '4047646', 'longName': 'A.J. Brown'}, {'posADP': 'WR8', 'overallADP': '11.0', 'playerID': '4569618', 'longName': 'Garrett Wilson'}, {'posADP': 'RB4', 'overallADP': '12.0', 'playerID': '4429795', 'longName': 'Jahmyr Gibbs'}, {'posADP': 'WR9', 'overallADP': '14.0', 'playerID': '4432708', 'longName': 'Marvin Harrison Jr.'}, {'posADP': 'WR10', 'overallADP': '15.0', 'playerID': '4426502', 'longName': 'Drake London'}, {'posADP': 'RB5', 'overallADP': '16.0', 'playerID': '3929630', 'longName': 'Saquon Barkley'}, {'posADP': 'RB6', 'overallADP': '16.0', 'playerID': '4242335', 'longName': 'Jonathan Taylor'}, {'posADP': 'RB7', 'overallADP': '17.0', 'playerID': '4430737', 'longName': 'Kyren Williams'}, {'posADP': 'WR11', 'overallADP': '18.0', 'playerID': '16800', 'longName': 'Davante Adams'}, {'posADP': 'WR12', 'overallADP': '19.5', 'playerID': '4360438', 'longName': 'Brandon Aiyuk'}, {'posADP': 'WR13', 'overallADP': '20.0', 'playerID': '4361370', 'longName': 'Chris Olave'}, {'posADP': 'RB8', 'overallADP': '20.5', 'playerID': '4429160', 'longName': \"De'Von Achane\"}, {'posADP': 'WR14', 'overallADP': '21.0', 'playerID': '4258173', 'longName': 'Nico Collins'}, {'posADP': 'WR15', 'overallADP': '23.0', 'playerID': '3126486', 'longName': 'Deebo Samuel Sr.'}, {'posADP': 'WR16', 'overallADP': '24.5', 'playerID': '16737', 'longName': 'Mike Evans'}, {'posADP': 'WR17', 'overallADP': '24.5', 'playerID': '2976212', 'longName': 'Stefon Diggs'}, {'posADP': 'WR18', 'overallADP': '26.0', 'playerID': '3915416', 'longName': 'DJ Moore'}, {'posADP': 'WR19', 'overallADP': '27.0', 'playerID': '4595348', 'longName': 'Malik Nabers'}, {'posADP': 'WR20', 'overallADP': '28.0', 'playerID': '4035687', 'longName': 'Michael Pittman Jr.'}, {'posADP': 'WR21', 'overallADP': '28.0', 'playerID': '4372016', 'longName': 'Jaylen Waddle'}, {'posADP': 'TE1', 'overallADP': '31.5', 'playerID': '4430027', 'longName': 'Sam LaPorta'}, {'posADP': 'RB9', 'overallADP': '32.0', 'playerID': '4047365', 'longName': 'Josh Jacobs'}, {'posADP': 'QB1', 'overallADP': '32.0', 'playerID': '3918298', 'longName': 'Josh Allen'}, {'posADP': 'WR22', 'overallADP': '33.0', 'playerID': '4241478', 'longName': 'DeVonta Smith'}, {'posADP': 'WR23', 'overallADP': '34.0', 'playerID': '2977187', 'longName': 'Cooper Kupp'}, {'posADP': 'WR24', 'overallADP': '34.0', 'playerID': '4047650', 'longName': 'DK Metcalf'}, {'posADP': 'RB10', 'overallADP': '35.0', 'playerID': '3043078', 'longName': 'Derrick Henry'}, {'posADP': 'TE2', 'overallADP': '37.5', 'playerID': '15847', 'longName': 'Travis Kelce'}, {'posADP': 'QB2', 'overallADP': '38.5', 'playerID': '4040715', 'longName': 'Jalen Hurts'}, {'posADP': 'WR25', 'overallADP': '39.0', 'playerID': '4366031', 'longName': 'Tank Dell'}, {'posADP': 'RB11', 'overallADP': '40.0', 'playerID': '4239996', 'longName': 'Travis Etienne Jr.'}, {'posADP': 'WR26', 'overallADP': '42.0', 'playerID': '4429615', 'longName': 'Zay Flowers'}, {'posADP': 'WR27', 'overallADP': '42.5', 'playerID': '15818', 'longName': 'Keenan Allen'}, {'posADP': 'WR28', 'overallADP': '43.0', 'playerID': '4239993', 'longName': 'Tee Higgins'}, {'posADP': 'QB3', 'overallADP': '43.5', 'playerID': '3916387', 'longName': 'Lamar Jackson'}, {'posADP': 'TE3', 'overallADP': '45.0', 'playerID': '4361307', 'longName': 'Trey McBride'}, {'posADP': 'WR29', 'overallADP': '49.5', 'playerID': '4426354', 'longName': 'George Pickens'}, {'posADP': 'RB12', 'overallADP': '50.5', 'playerID': '4379399', 'longName': 'James Cook'}, {'posADP': 'WR30', 'overallADP': '51.0', 'playerID': '3895856', 'longName': 'Christian Kirk'}, {'posADP': 'QB4', 'overallADP': '51.0', 'playerID': '3139477', 'longName': 'Patrick Mahomes'}, {'posADP': 'QB5', 'overallADP': '51.5', 'playerID': '4432577', 'longName': 'C.J. Stroud'}, {'posADP': 'RB13', 'overallADP': '52.0', 'playerID': '4361529', 'longName': 'Isiah Pacheco'}, {'posADP': 'WR31', 'overallADP': '52.0', 'playerID': '2976499', 'longName': 'Amari Cooper'}, {'posADP': 'TE4', 'overallADP': '52.5', 'playerID': '4385690', 'longName': 'Dalton Kincaid'}, {'posADP': 'RB14', 'overallADP': '53.0', 'playerID': '4697815', 'longName': 'Rachaad White'}, {'posADP': 'TE5', 'overallADP': '53.0', 'playerID': '3116365', 'longName': 'Mark Andrews'}, {'posADP': 'WR32', 'overallADP': '54.0', 'playerID': '4428331', 'longName': 'Rashee Rice'}, {'posADP': 'WR33', 'overallADP': '55.5', 'playerID': '4431299', 'longName': 'Rome Odunze'}, {'posADP': 'WR34', 'overallADP': '58.0', 'playerID': '3121422', 'longName': 'Terry McLaurin'}, {'posADP': 'WR35', 'overallADP': '58.0', 'playerID': '4362249', 'longName': 'Jayden Reed'}, {'posADP': 'RB15', 'overallADP': '58.5', 'playerID': '3116385', 'longName': 'Joe Mixon'}, {'posADP': 'TE6', 'overallADP': '59.0', 'playerID': '4360248', 'longName': 'Kyle Pitts'}, {'posADP': 'QB6', 'overallADP': '61.0', 'playerID': '4429084', 'longName': 'Anthony Richardson'}, {'posADP': 'WR36', 'overallADP': '61.5', 'playerID': '4241372', 'longName': 'Marquise Brown'}, {'posADP': 'WR37', 'overallADP': '64.5', 'playerID': '3925357', 'longName': 'Calvin Ridley'}, {'posADP': 'RB16', 'overallADP': '67.0', 'playerID': '4567048', 'longName': 'Kenneth Walker III'}, {'posADP': 'TE7', 'overallADP': '67.0', 'playerID': '3040151', 'longName': 'George Kittle'}, {'posADP': 'RB17', 'overallADP': '67.5', 'playerID': '3054850', 'longName': 'Alvin Kamara'}, {'posADP': 'TE8', 'overallADP': '70.0', 'playerID': '3051876', 'longName': 'Evan Engram'}, {'posADP': 'WR38', 'overallADP': '70.0', 'playerID': '4432773', 'longName': 'Brian Thomas Jr.'}, {'posADP': 'WR39', 'overallADP': '70.5', 'playerID': '3932905', 'longName': 'Diontae Johnson'}, {'posADP': 'WR40', 'overallADP': '71.5', 'playerID': '3116165', 'longName': 'Chris Godwin'}, {'posADP': 'RB18', 'overallADP': '72.0', 'playerID': '3042519', 'longName': 'Aaron Jones'}, {'posADP': 'WR41', 'overallADP': '72.5', 'playerID': '4429205', 'longName': 'Jordan Addison'}, {'posADP': 'WR42', 'overallADP': '76.5', 'playerID': '4683062', 'longName': 'Xavier Worthy'}, {'posADP': 'RB19', 'overallADP': '77.5', 'playerID': '4035538', 'longName': 'David Montgomery'}, {'posADP': 'WR43', 'overallADP': '78.0', 'playerID': '15795', 'longName': 'DeAndre Hopkins'}, {'posADP': 'QB7', 'overallADP': '79.5', 'playerID': '3915511', 'longName': 'Joe Burrow'}, {'posADP': 'QB8', 'overallADP': '80.0', 'playerID': '3917315', 'longName': 'Kyler Murray'}, {'posADP': 'RB20', 'overallADP': '80.5', 'playerID': '4569173', 'longName': 'Rhamondre Stevenson'}, {'posADP': 'WR44', 'overallADP': '81.5', 'playerID': '4430878', 'longName': 'Jaxon Smith-Njigba'}, {'posADP': 'WR45', 'overallADP': '82.5', 'playerID': '4248528', 'longName': 'Christian Watson'}, {'posADP': 'QB9', 'overallADP': '84.0', 'playerID': '2577417', 'longName': 'Dak Prescott'}, {'posADP': 'RB21', 'overallADP': '85.5', 'playerID': '3045147', 'longName': 'James Conner'}, {'posADP': 'QB10', 'overallADP': '86.0', 'playerID': '4036378', 'longName': 'Jordan Love'}, {'posADP': 'TE9', 'overallADP': '86.5', 'playerID': '4242355', 'longName': 'Jake Ferguson'}, {'posADP': 'RB22', 'overallADP': '87.0', 'playerID': '4259545', 'longName': \"D'Andre Swift\"}, {'posADP': 'TE10', 'overallADP': '87.5', 'playerID': '4432665', 'longName': 'Brock Bowers'}, {'posADP': 'RB23', 'overallADP': '88.5', 'playerID': '2576414', 'longName': 'Raheem Mostert'}, {'posADP': 'RB24', 'overallADP': '89.5', 'playerID': '3916148', 'longName': 'Tony Pollard'}, {'posADP': 'RB25', 'overallADP': '89.5', 'playerID': '4241457', 'longName': 'Najee Harris'}, {'posADP': 'TE11', 'overallADP': '90.0', 'playerID': '3123076', 'longName': 'David Njoku'}, {'posADP': 'RB26', 'overallADP': '90.0', 'playerID': '4569987', 'longName': 'Jaylen Warren'}, {'posADP': 'RB27', 'overallADP': '91.0', 'playerID': '4361777', 'longName': 'Zamir White'}, {'posADP': 'WR46', 'overallADP': '92.5', 'playerID': '4612826', 'longName': 'Ladd McConkey'}, {'posADP': 'WR47', 'overallADP': '93.5', 'playerID': '3121427', 'longName': 'Curtis Samuel'}, {'posADP': 'WR48', 'overallADP': '97.0', 'playerID': '4426388', 'longName': 'Jameson Williams'}, {'posADP': 'WR49', 'overallADP': '98.0', 'playerID': '3045138', 'longName': 'Mike Williams'}, {'posADP': 'RB28', 'overallADP': '98.5', 'playerID': '4361579', 'longName': 'Javonte Williams'}, {'posADP': 'QB11', 'overallADP': '101.5', 'playerID': '4431611', 'longName': 'Caleb Williams'}, {'posADP': 'RB29', 'overallADP': '102.0', 'playerID': '4429275', 'longName': 'Trey Benson'}, {'posADP': 'QB12', 'overallADP': '102.5', 'playerID': '4361741', 'longName': 'Brock Purdy'}, {'posADP': 'RB30', 'overallADP': '103.0', 'playerID': '4035676', 'longName': 'Zack Moss'}, {'posADP': 'WR50', 'overallADP': '103.5', 'playerID': '4597500', 'longName': 'Adonai Mitchell'}, {'posADP': 'WR51', 'overallADP': '104.0', 'playerID': '2577327', 'longName': 'Tyler Lockett'}, {'posADP': 'RB31', 'overallADP': '104.0', 'playerID': '4678008', 'longName': 'Jonathon Brooks'}, {'posADP': 'WR52', 'overallADP': '104.0', 'playerID': '4361432', 'longName': 'Romeo Doubs'}, {'posADP': 'WR53', 'overallADP': '106.5', 'playerID': '3128429', 'longName': 'Courtland Sutton'}, {'posADP': 'WR54', 'overallADP': '107.5', 'playerID': '4635008', 'longName': 'Keon Coleman'}, {'posADP': 'RB32', 'overallADP': '107.5', 'playerID': '3068267', 'longName': 'Austin Ekeler'}, {'posADP': 'TE12', 'overallADP': '109.5', 'playerID': '3121023', 'longName': 'Dallas Goedert'}, {'posADP': 'RB33', 'overallADP': '112.0', 'playerID': '4241474', 'longName': 'Brian Robinson Jr.'}, {'posADP': 'WR55', 'overallADP': '112.0', 'playerID': '3916433', 'longName': 'Jakobi Meyers'}, {'posADP': 'WR56', 'overallADP': '112.5', 'playerID': '4373678', 'longName': 'Khalil Shakir'}, {'posADP': 'RB34', 'overallADP': '113.5', 'playerID': '3128720', 'longName': 'Nick Chubb'}, {'posADP': 'RB35', 'overallADP': '114.0', 'playerID': '4040761', 'longName': 'Devin Singletary'}, {'posADP': 'QB13', 'overallADP': '117.0', 'playerID': '4241479', 'longName': 'Tua Tagovailoa'}, {'posADP': 'RB36', 'overallADP': '117.5', 'playerID': '4362238', 'longName': 'Chase Brown'}, {'posADP': 'QB14', 'overallADP': '118.0', 'playerID': '4360310', 'longName': 'Trevor Lawrence'}, {'posADP': 'QB15', 'overallADP': '118.0', 'playerID': '3046779', 'longName': 'Jared Goff'}, {'posADP': 'QB16', 'overallADP': '119.0', 'playerID': '4426348', 'longName': 'Jayden Daniels'}, {'posADP': 'RB37', 'overallADP': '119.0', 'playerID': '4428557', 'longName': 'Tyjae Spears'}, {'posADP': 'TE13', 'overallADP': '119.5', 'playerID': '3117256', 'longName': 'Dalton Schultz'}, {'posADP': 'WR57', 'overallADP': '121.5', 'playerID': '4243537', 'longName': 'Gabe Davis'}, {'posADP': 'QB17', 'overallADP': '122.0', 'playerID': '4038941', 'longName': 'Justin Herbert'}, {'posADP': 'WR58', 'overallADP': '123.5', 'playerID': '4688813', 'longName': 'Josh Downs'}, {'posADP': 'WR59', 'overallADP': '125.0', 'playerID': '4242433', 'longName': 'Joshua Palmer'}, {'posADP': 'WR60', 'overallADP': '125.5', 'playerID': '4032473', 'longName': 'Rashid Shaheed'}, {'posADP': 'RB38', 'overallADP': '126.0', 'playerID': '3051926', 'longName': 'Gus Edwards'}, {'posADP': 'TE14', 'overallADP': '126.0', 'playerID': '4036133', 'longName': 'T.J. Hockenson'}, {'posADP': 'QB18', 'overallADP': '129.5', 'playerID': '14880', 'longName': 'Kirk Cousins'}, {'posADP': 'WR61', 'overallADP': '129.5', 'playerID': '4241463', 'longName': 'Jerry Jeudy'}, {'posADP': 'RB39', 'overallADP': '131.5', 'playerID': '4429096', 'longName': 'Blake Corum'}, {'posADP': 'RB40', 'overallADP': '135.5', 'playerID': '4372019', 'longName': 'Jerome Ford'}, {'posADP': 'WR62', 'overallADP': '136.0', 'playerID': '16731', 'longName': 'Brandin Cooks'}, {'posADP': 'RB41', 'overallADP': '136.0', 'playerID': '4426385', 'longName': 'Zach Charbonnet'}, {'posADP': 'WR63', 'overallADP': '136.5', 'playerID': '4431280', 'longName': 'Troy Franklin'}, {'posADP': 'TE15', 'overallADP': '136.5', 'playerID': '4258595', 'longName': 'Cole Kmet'}, {'posADP': 'WR64', 'overallADP': '138.0', 'playerID': '4361409', 'longName': 'Jahan Dotson'}, {'posADP': 'RB42', 'overallADP': '141.0', 'playerID': '4682745', 'longName': 'Jaylen Wright'}, {'posADP': 'WR65', 'overallADP': '142.0', 'playerID': '4428850', 'longName': 'Dontayvion Wicks'}, {'posADP': 'QB19', 'overallADP': '142.5', 'playerID': '12483', 'longName': 'Matthew Stafford'}, {'posADP': 'TE16', 'overallADP': '143.0', 'playerID': '4361411', 'longName': 'Pat Freiermuth'}, {'posADP': 'WR66', 'overallADP': '144.5', 'playerID': '4430034', 'longName': 'Xavier Legette'}, {'posADP': 'RB43', 'overallADP': '145.5', 'playerID': '4241416', 'longName': 'Chuba Hubbard'}, {'posADP': 'WR67', 'overallADP': '145.5', 'playerID': '4429025', 'longName': 'Quentin Johnston'}, {'posADP': 'WR68', 'overallADP': '147.0', 'playerID': '4428209', 'longName': 'Ricky Pearsall'}, {'posADP': 'QB20', 'overallADP': '148.5', 'playerID': '8439', 'longName': 'Aaron Rodgers'}, {'posADP': 'WR69', 'overallADP': '150.5', 'playerID': '4040655', 'longName': 'Darnell Mooney'}, {'posADP': 'TE17', 'overallADP': '150.5', 'playerID': '4428085', 'longName': 'Luke Musgrave'}, {'posADP': 'WR70', 'overallADP': '150.5', 'playerID': '4360761', 'longName': 'Michael Wilson'}, {'posADP': 'RB44', 'overallADP': '151.0', 'playerID': '4429023', 'longName': 'MarShawn Lloyd'}, {'posADP': 'RB45', 'overallADP': '151.0', 'playerID': '4242431', 'longName': 'Ty Chandler'}, {'posADP': 'RB46', 'overallADP': '153.0', 'playerID': '4599739', 'longName': 'Kendre Miller'}, {'posADP': 'RB47', 'overallADP': '153.5', 'playerID': '4038815', 'longName': 'Rico Dowdle'}, {'posADP': 'QB21', 'overallADP': '154.5', 'playerID': '3052587', 'longName': 'Baker Mayfield'}, {'posADP': 'DST1', 'overallADP': '156.5', 'teamAbv': 'DAL', 'longName': 'Dallas Cowboys DST', 'teamID': '9'}, {'posADP': 'DST2', 'overallADP': '157.5', 'teamAbv': 'BAL', 'longName': 'Baltimore Ravens DST', 'teamID': '3'}, {'posADP': 'QB22', 'overallADP': '160.0', 'playerID': '3122840', 'longName': 'Deshaun Watson'}, {'posADP': 'RB48', 'overallADP': '160.0', 'playerID': '4360294', 'longName': 'Antonio Gibson'}, {'posADP': 'WR71', 'overallADP': '160.5', 'playerID': '4431492', 'longName': 'Roman Wilson'}, {'posADP': 'WR72', 'overallADP': '160.5', 'playerID': '16460', 'longName': 'Adam Thielen'}, {'posADP': 'WR73', 'overallADP': '162.0', 'playerID': '4686472', 'longName': 'Marvin Mims Jr.'}, {'posADP': 'TE18', 'overallADP': '163.5', 'playerID': '3046439', 'longName': 'Hunter Henry'}, {'posADP': 'RB49', 'overallADP': '164.0', 'playerID': '4373626', 'longName': 'Tyler Allgeier'}, {'posADP': 'WR74', 'overallADP': '164.5', 'playerID': '4430637', 'longName': \"Ja'Lynn Polk\"}, {'posADP': 'DST3', 'overallADP': '167.5', 'teamAbv': 'SF', 'longName': 'San Francisco 49ers DST', 'teamID': '28'}, {'posADP': 'TE19', 'overallADP': '169.0', 'playerID': '4243331', 'longName': 'Cade Otton'}, {'posADP': 'RB50', 'overallADP': '169.5', 'playerID': '3051392', 'longName': 'Ezekiel Elliott'}, {'posADP': 'QB23', 'overallADP': '171.0', 'playerID': '4431452', 'longName': 'Drake Maye'}, {'posADP': 'RB51', 'overallADP': '171.0', 'playerID': '4722893', 'longName': 'Jaleel McLaughlin'}, {'posADP': 'RB52', 'overallADP': '172.0', 'playerID': '4429501', 'longName': 'Ray Davis'}, {'posADP': 'WR75', 'overallADP': '172.0', 'playerID': '4613104', 'longName': 'Malachi Corley'}, {'posADP': 'QB24', 'overallADP': '173.5', 'playerID': '4361418', 'longName': 'Will Levis'}, {'posADP': 'RB53', 'overallADP': '173.5', 'playerID': '4241985', 'longName': 'J.K. Dobbins'}, {'posADP': 'WR76', 'overallADP': '174.0', 'playerID': '4569587', 'longName': \"Wan'Dale Robinson\"}, {'posADP': 'DST4', 'overallADP': '174.0', 'teamAbv': 'NYJ', 'longName': 'New York Jets DST', 'teamID': '25'}, {'posADP': 'WR77', 'overallADP': '175.0', 'playerID': '4429033', 'longName': 'Jermaine Burton'}, {'posADP': 'TE20', 'overallADP': '175.5', 'playerID': '3054212', 'longName': 'Jonnu Smith'}, {'posADP': 'DST5', 'overallADP': '175.5', 'teamAbv': 'BUF', 'longName': 'Buffalo Bills DST', 'teamID': '4'}, {'posADP': 'TE21', 'overallADP': '176.0', 'playerID': '3929645', 'longName': 'Juwan Johnson'}, {'posADP': 'TE22', 'overallADP': '176.5', 'playerID': '4361050', 'longName': 'Isaiah Likely'}, {'posADP': 'QB25', 'overallADP': '177.0', 'playerID': '15864', 'longName': 'Geno Smith'}, {'posADP': 'RB54', 'overallADP': '177.0', 'playerID': '4035886', 'longName': 'Khalil Herbert'}, {'posADP': 'WR78', 'overallADP': '177.5', 'playerID': '4427095', 'longName': 'DeMario Douglas'}, {'posADP': 'RB55', 'overallADP': '180.5', 'playerID': '4596448', 'longName': 'Bucky Irving'}, {'posADP': 'RB56', 'overallADP': '181.0', 'playerID': '4426386', 'longName': 'Roschon Johnson'}, {'posADP': 'WR79', 'overallADP': '182.5', 'playerID': '4360939', 'longName': 'Rashod Bateman'}, {'posADP': 'DST6', 'overallADP': '185.0', 'teamAbv': 'CLE', 'longName': 'Cleveland Browns DST', 'teamID': '8'}, {'posADP': 'WR80', 'overallADP': '185.5', 'playerID': '4692022', 'longName': 'Javon Baker'}, {'posADP': 'QB26', 'overallADP': '186.0', 'playerID': '16757', 'longName': 'Derek Carr'}, {'posADP': 'RB57', 'overallADP': '186.0', 'playerID': '4360516', 'longName': 'Tyrone Tracy Jr.'}, {'posADP': 'QB27', 'overallADP': '187.0', 'playerID': '4362887', 'longName': 'Justin Fields'}, {'posADP': 'RB58', 'overallADP': '187.5', 'playerID': '4596334', 'longName': 'Keaton Mitchell'}, {'posADP': 'RB59', 'overallADP': '188.0', 'playerID': '4241555', 'longName': 'Elijah Mitchell'}, {'posADP': 'TE23', 'overallADP': '189.5', 'playerID': '4429086', 'longName': 'Michael Mayer'}, {'posADP': 'TE24', 'overallADP': '191.0', 'playerID': '3915486', 'longName': 'Tyler Conklin'}, {'posADP': 'RB60', 'overallADP': '192.0', 'playerID': '4569682', 'longName': 'Audric Estime'}, {'posADP': 'QB28', 'overallADP': '192.0', 'playerID': '4433970', 'longName': 'J.J. McCarthy'}, {'posADP': 'DST7', 'overallADP': '192.0', 'teamAbv': 'KC', 'longName': 'Kansas City Chiefs DST', 'teamID': '16'}, {'posADP': 'QB29', 'overallADP': '194.5', 'playerID': '4685720', 'longName': 'Bryce Young'}, {'posADP': 'RB61', 'overallADP': '195.0', 'playerID': '4685247', 'longName': 'Braelon Allen'}, {'posADP': 'TE25', 'overallADP': '195.0', 'playerID': '4036131', 'longName': 'Noah Fant'}, {'posADP': 'DST8', 'overallADP': '195.5', 'teamAbv': 'PIT', 'longName': 'Pittsburgh Steelers DST', 'teamID': '26'}, {'posADP': 'WR81', 'overallADP': '197.0', 'playerID': '4696882', 'longName': 'Devontez Walker'}, {'posADP': 'TE26', 'overallADP': '197.5', 'playerID': '4360635', 'longName': 'Chigoziem Okonkwo'}, {'posADP': 'DST9', 'overallADP': '197.5', 'teamAbv': 'PHI', 'longName': 'Philadelphia Eagles DST', 'teamID': '27'}, {'posADP': 'DST10', 'overallADP': '198.0', 'teamAbv': 'MIA', 'longName': 'Miami Dolphins DST', 'teamID': '20'}, {'posADP': 'WR82', 'overallADP': '199.0', 'playerID': '4569603', 'longName': 'Malik Washington'}, {'posADP': 'WR83', 'overallADP': '199.5', 'playerID': '3043116', 'longName': 'Demarcus Robinson'}, {'posADP': 'RB62', 'overallADP': '200.0', 'playerID': '4430968', 'longName': 'Kimani Vidal'}, {'posADP': 'TE27', 'overallADP': '201.0', 'playerID': '4690923', 'longName': 'Ben Sinnott'}, {'posADP': 'RB63', 'overallADP': '201.0', 'playerID': '4431545', 'longName': 'Will Shipley'}, {'posADP': 'DST11', 'overallADP': '202.0', 'teamAbv': 'HOU', 'longName': 'Houston Texans DST', 'teamID': '13'}, {'posADP': 'WR84', 'overallADP': '204.0', 'playerID': '4430834', 'longName': 'Jalen McMillan'}, {'posADP': 'QB30', 'overallADP': '205.0', 'playerID': '3917792', 'longName': 'Daniel Jones'}, {'posADP': 'WR85', 'overallADP': '208.0', 'playerID': '4692590', 'longName': 'Jalin Hyatt'}, {'posADP': 'RB64', 'overallADP': '208.0', 'playerID': '4372561', 'longName': 'Isaac Guerendo'}, {'posADP': 'RB65', 'overallADP': '208.5', 'playerID': '4360238', 'longName': 'Dameon Pierce'}, {'posADP': 'TE28', 'overallADP': '209.0', 'playerID': '3116164', 'longName': 'Mike Gesicki'}, {'posADP': 'WR86', 'overallADP': '209.0', 'playerID': '16733', 'longName': 'Odell Beckham Jr.'}, {'posADP': 'DST12', 'overallADP': '209.0', 'teamAbv': 'IND', 'longName': 'Indianapolis Colts DST', 'teamID': '14'}, {'posADP': 'WR87', 'overallADP': '210.0', 'playerID': '4426948', 'longName': 'Luke McCaffrey'}, {'posADP': 'WR88', 'overallADP': '211.5', 'playerID': '3045144', 'longName': 'Tyler Boyd'}, {'posADP': 'WR89', 'overallADP': '211.5', 'playerID': '4372485', 'longName': 'Rondale Moore'}, {'posADP': 'TE29', 'overallADP': '212.0', 'playerID': '4431588', 'longName': \"Ja'Tavion Sanders\"}, {'posADP': 'WR90', 'overallADP': '212.5', 'playerID': '4037235', 'longName': 'Greg Dortch'}, {'posADP': 'WR91', 'overallADP': '213.0', 'playerID': '3059722', 'longName': 'Zay Jones'}, {'posADP': 'TE30', 'overallADP': '213.0', 'playerID': '4572680', 'longName': 'Tucker Kraft'}, {'posADP': 'QB31', 'overallADP': '214.0', 'playerID': '14881', 'longName': 'Russell Wilson'}, {'posADP': 'WR92', 'overallADP': '215.0', 'playerID': '4372414', 'longName': 'Elijah Moore'}, {'posADP': 'DST13', 'overallADP': '215.0', 'teamAbv': 'CHI', 'longName': 'Chicago Bears DST', 'teamID': '6'}, {'posADP': 'RB66', 'overallADP': '217.0', 'playerID': '4366963', 'longName': 'Dylan Laube'}, {'posADP': 'WR93', 'overallADP': '218.0', 'playerID': '4426407', 'longName': 'Trey Palmer'}, {'posADP': 'DST14', 'overallADP': '218.0', 'teamAbv': 'LV', 'longName': 'Las Vegas Raiders DST', 'teamID': '17'}, {'posADP': 'WR94', 'overallADP': '218.5', 'playerID': '4567156', 'longName': 'Treylon Burks'}, {'posADP': 'RB67', 'overallADP': '219.0', 'playerID': '4045163', 'longName': 'Miles Sanders'}, {'posADP': 'RB68', 'overallADP': '219.0', 'playerID': '3125116', 'longName': \"D'Onta Foreman\"}, {'posADP': 'RB69', 'overallADP': '219.5', 'playerID': '4239934', 'longName': 'AJ Dillon'}, {'posADP': 'QB32', 'overallADP': '220.0', 'playerID': '4360423', 'longName': 'Michael Penix Jr.'}, {'posADP': 'DST15', 'overallADP': '220.0', 'teamAbv': 'NO', 'longName': 'New Orleans Saints DST', 'teamID': '23'}, {'posADP': 'RB70', 'overallADP': '221.0', 'playerID': '4429013', 'longName': 'Tank Bigsby'}, {'posADP': 'DST16', 'overallADP': '221.0', 'teamAbv': 'GB', 'longName': 'Green Bay Packers DST', 'teamID': '12'}, {'posADP': 'QB33', 'overallADP': '222.0', 'playerID': '4426338', 'longName': 'Bo Nix'}, {'posADP': 'WR95', 'overallADP': '222.0', 'playerID': '3045523', 'longName': 'Kendrick Bourne'}, {'posADP': 'RB71', 'overallADP': '222.5', 'playerID': '4048244', 'longName': 'Alexander Mattison'}, {'posADP': 'DST17', 'overallADP': '224.0', 'teamAbv': 'DET', 'longName': 'Detroit Lions DST', 'teamID': '11'}, {'posADP': 'TE31', 'overallADP': '225.5', 'playerID': '15835', 'longName': 'Zach Ertz'}, {'posADP': 'WR96', 'overallADP': '227.0', 'playerID': '4362019', 'longName': 'A.T. Perry'}, {'posADP': 'WR97', 'overallADP': '227.0', 'playerID': '3916945', 'longName': 'Darius Slayton'}, {'posADP': 'DST18', 'overallADP': '227.0', 'teamAbv': 'TB', 'longName': 'Tampa Bay Buccaneers DST', 'teamID': '30'}, {'posADP': 'RB72', 'overallADP': '227.5', 'playerID': '4429202', 'longName': 'Israel Abanikanda'}, {'posADP': 'TE32', 'overallADP': '228.0', 'playerID': '2468609', 'longName': 'Taysom Hill'}, {'posADP': 'TE33', 'overallADP': '229.5', 'playerID': '2576925', 'longName': 'Darren Waller'}, {'posADP': 'TE34', 'overallADP': '231.0', 'playerID': '3930086', 'longName': 'Dawson Knox'}, {'posADP': 'WR98', 'overallADP': '231.5', 'playerID': '3115306', 'longName': 'Josh Reynolds'}, {'posADP': 'WR99', 'overallADP': '234.0', 'playerID': '4686781', 'longName': 'Brenden Rice'}, {'posADP': 'DST19', 'overallADP': '234.0', 'teamAbv': 'JAX', 'longName': 'Jacksonville Jaguars DST', 'teamID': '15'}, {'posADP': 'DST20', 'overallADP': '235.0', 'teamAbv': 'NE', 'longName': 'New England Patriots DST', 'teamID': '22'}, {'posADP': 'QB34', 'overallADP': '236.5', 'playerID': '4038524', 'longName': 'Gardner Minshew'}, {'posADP': 'WR100', 'overallADP': '237.5', 'playerID': '4426485', 'longName': 'Jonathan Mingo'}, {'posADP': 'RB73', 'overallADP': '238.0', 'playerID': '4695404', 'longName': 'Isaiah Davis'}, {'posADP': 'DST21', 'overallADP': '238.0', 'teamAbv': 'MIN', 'longName': 'Minnesota Vikings DST', 'teamID': '21'}, {'posADP': 'WR101', 'overallADP': '239.0', 'playerID': '3115394', 'longName': 'DJ Chark Jr.'}, {'posADP': 'RB74', 'overallADP': '240.0', 'playerID': '4371733', 'longName': 'Kenneth Gainwell'}, {'posADP': 'WR102', 'overallADP': '240.5', 'playerID': '4686104', 'longName': 'Johnny Wilson'}, {'posADP': 'DST22', 'overallADP': '241.0', 'teamAbv': 'CIN', 'longName': 'Cincinnati Bengals DST', 'teamID': '7'}, {'posADP': 'QB35', 'overallADP': '242.5', 'playerID': '3912547', 'longName': 'Sam Darnold'}, {'posADP': 'RB75', 'overallADP': '243.0', 'playerID': '4569609', 'longName': 'Evan Hull'}, {'posADP': 'WR103', 'overallADP': '243.0', 'playerID': '5083754', 'longName': 'Ryan Flournoy'}, {'posADP': 'RB76', 'overallADP': '244.0', 'playerID': '3116389', 'longName': 'Samaje Perine'}, {'posADP': 'TE35', 'overallADP': '244.0', 'playerID': '4367209', 'longName': 'Greg Dulcich'}, {'posADP': 'WR104', 'overallADP': '245.0', 'playerID': '3886598', 'longName': 'Jauan Jennings'}, {'posADP': 'WR105', 'overallADP': '246.0', 'playerID': '3916566', 'longName': 'K.J. Osborn'}, {'posADP': 'WR106', 'overallADP': '246.0', 'playerID': '4360078', 'longName': 'Alec Pierce'}, {'posADP': 'DST23', 'overallADP': '246.0', 'teamAbv': 'ATL', 'longName': 'Atlanta Falcons DST', 'teamID': '2'}, {'posADP': 'WR107', 'overallADP': '250.0', 'playerID': '3121409', 'longName': 'Noah Brown'}, {'posADP': 'WR108', 'overallADP': '251.0', 'playerID': '4249417', 'longName': 'Jalen Tolbert'}, {'posADP': 'RB77', 'overallADP': '251.0', 'playerID': '4242214', 'longName': 'Clyde Edwards-Helaire'}, {'posADP': 'DST24', 'overallADP': '251.0', 'teamAbv': 'SEA', 'longName': 'Seattle Seahawks DST', 'teamID': '29'}, {'posADP': 'WR109', 'overallADP': '252.0', 'playerID': '4240600', 'longName': 'Kadarius Toney'}, {'posADP': 'RB78', 'overallADP': '252.0', 'playerID': '4240657', 'longName': 'Michael Carter'}, {'posADP': 'DST25', 'overallADP': '252.0', 'teamAbv': 'LAC', 'longName': 'Los Angeles Chargers DST', 'teamID': '18'}, {'posADP': 'TE36', 'overallADP': '253.0', 'playerID': '4242557', 'longName': 'Colby Parkinson'}, {'posADP': 'TE37', 'overallADP': '254.0', 'playerID': '4241410', 'longName': 'Jelani Woods'}, {'posADP': 'WR110', 'overallADP': '254.0', 'playerID': '4368003', 'longName': 'Andrei Iosivas'}, {'posADP': 'RB79', 'overallADP': '254.5', 'playerID': '4038441', 'longName': 'Justice Hill'}, {'posADP': 'WR111', 'overallADP': '255.0', 'playerID': '4575665', 'longName': 'Jacob Cowing'}, {'posADP': 'TE38', 'overallADP': '255.5', 'playerID': '4426553', 'longName': 'Davis Allen'}, {'posADP': 'WR112', 'overallADP': '256.5', 'playerID': '2991662', 'longName': 'Mack Hollins'}, {'posADP': 'RB80', 'overallADP': '257.5', 'playerID': '4690013', 'longName': 'Rasheen Ali'}, {'posADP': 'TE39', 'overallADP': '257.5', 'playerID': '3912092', 'longName': 'Donald Parham Jr.'}, {'posADP': 'RB81', 'overallADP': '258.0', 'playerID': '4429805', 'longName': 'Frank Gore Jr.'}, {'posADP': 'DST26', 'overallADP': '258.0', 'teamAbv': 'DEN', 'longName': 'Denver Broncos DST', 'teamID': '10'}, {'posADP': 'WR113', 'overallADP': '259.5', 'playerID': '4428532', 'longName': 'Ainias Smith'}, {'posADP': 'TE40', 'overallADP': '259.5', 'playerID': '4429148', 'longName': 'Theo Johnson'}, {'posADP': 'WR114', 'overallADP': '260.0', 'playerID': '3128390', 'longName': 'Allen Lazard'}, {'posADP': 'WR115', 'overallADP': '263.0', 'playerID': '4428678', 'longName': 'Jamari Thrash'}, {'posADP': 'WR116', 'overallADP': '263.5', 'playerID': '2973405', 'longName': 'Kalif Raymond'}, {'posADP': 'WR117', 'overallADP': '264.0', 'playerID': '4259305', 'longName': 'Bo Melton'}, {'posADP': 'QB36', 'overallADP': '265.0', 'playerID': '4426875', 'longName': 'Sam Howell'}, {'posADP': 'DST27', 'overallADP': '266.0', 'teamAbv': 'NYG', 'longName': 'New York Giants DST', 'teamID': '24'}, {'posADP': 'TE41', 'overallADP': '269.5', 'playerID': '3924365', 'longName': 'Hayden Hurst'}, {'posADP': 'TE42', 'overallADP': '270.0', 'playerID': '3918639', 'longName': 'Gerald Everett'}, {'posADP': 'WR118', 'overallADP': '270.5', 'playerID': '4243389', 'longName': 'Calvin Austin III'}, {'posADP': 'WR119', 'overallADP': '270.5', 'playerID': '4428718', 'longName': 'Tre Tucker'}, {'posADP': 'TE43', 'overallADP': '272.5', 'playerID': '4361516', 'longName': 'Daniel Bellinger'}, {'posADP': 'WR120', 'overallADP': '273.0', 'playerID': '4360797', 'longName': 'Tutu Atwell'}, {'posADP': 'RB82', 'overallADP': '274.0', 'playerID': '4243003', 'longName': 'Ronnie Rivers'}, {'posADP': 'WR121', 'overallADP': '274.5', 'playerID': '2976316', 'longName': 'Michael Thomas'}, {'posADP': 'WR122', 'overallADP': '275.0', 'playerID': '2576623', 'longName': 'DeVante Parker'}, {'posADP': 'QB37', 'overallADP': '276.0', 'playerID': '4361259', 'longName': 'Zach Wilson'}, {'posADP': 'RB83', 'overallADP': '278.0', 'playerID': '4689338', 'longName': 'Dillon Johnson'}, {'posADP': 'RB84', 'overallADP': '280.0', 'playerID': '3915411', 'longName': 'Ty Johnson'}, {'posADP': 'RB85', 'overallADP': '281.0', 'playerID': '15807', 'longName': 'Cordarrelle Patterson'}, {'posADP': 'RB86', 'overallADP': '282.0', 'playerID': '4361604', 'longName': 'Blake Watson'}, {'posADP': 'RB87', 'overallADP': '283.0', 'playerID': '4391845', 'longName': 'Cody Schrader'}, {'posADP': 'DST28', 'overallADP': '283.0', 'teamAbv': 'CAR', 'longName': 'Carolina Panthers DST', 'teamID': '5'}, {'posADP': 'WR123', 'overallADP': '285.0', 'playerID': '2971618', 'longName': 'Nelson Agholor'}, {'posADP': 'RB88', 'overallADP': '286.0', 'playerID': '2980453', 'longName': 'Jamaal Williams'}, {'posADP': 'RB89', 'overallADP': '286.5', 'playerID': '16782', 'longName': 'Jerick McKinnon'}, {'posADP': 'RB90', 'overallADP': '287.0', 'playerID': '4431453', 'longName': 'Deuce Vaughn'}, {'posADP': 'WR124', 'overallADP': '287.0', 'playerID': '4258195', 'longName': 'Donovan Peoples-Jones'}, {'posADP': 'TE44', 'overallADP': '287.5', 'playerID': '4427834', 'longName': 'Erick All Jr.'}, {'posADP': 'RB91', 'overallADP': '288.0', 'playerID': '3122976', 'longName': 'Jeff Wilson Jr.'}, {'posADP': 'TE45', 'overallADP': '289.0', 'playerID': '4429262', 'longName': 'Jaheim Bell'}, {'posADP': 'DST29', 'overallADP': '289.0', 'teamAbv': 'LAR', 'longName': 'Los Angeles Rams DST', 'teamID': '19'}, {'posADP': 'TE46', 'overallADP': '290.0', 'playerID': '3127292', 'longName': 'Will Dissly'}, {'posADP': 'RB92', 'overallADP': '291.0', 'playerID': '3116593', 'longName': 'Dalvin Cook'}, {'posADP': 'WR125', 'overallADP': '292.0', 'playerID': '4035004', 'longName': 'Mecole Hardman'}, {'posADP': 'QB38', 'overallADP': '293.0', 'playerID': '4260394', 'longName': \"Aidan O'Connell\"}, {'posADP': 'TE47', 'overallADP': '294.0', 'playerID': '4426496', 'longName': 'Cade Stover'}, {'posADP': 'TE48', 'overallADP': '295.0', 'playerID': '4040980', 'longName': 'Irv Smith Jr.'}, {'posADP': 'QB39', 'overallADP': '296.0', 'playerID': '2330', 'longName': 'Tom Brady'}, {'posADP': 'WR126', 'overallADP': '297.0', 'playerID': '3134353', 'longName': 'Tim Patrick'}, {'posADP': 'QB40', 'overallADP': '298.0', 'playerID': '2578570', 'longName': 'Jacoby Brissett'}, {'posADP': 'DST30', 'overallADP': '298.0', 'teamAbv': 'TEN', 'longName': 'Tennessee Titans DST', 'teamID': '31'}, {'posADP': 'QB41', 'overallADP': '299.0', 'playerID': '11252', 'longName': 'Joe Flacco'}, {'posADP': 'WR127', 'overallADP': '300.0', 'playerID': '4046692', 'longName': 'Chase Claypool'}, {'posADP': 'WR128', 'overallADP': '301.0', 'playerID': '3118892', 'longName': 'Justin Watson'}, {'posADP': 'TE49', 'overallADP': '302.0', 'playerID': '4372780', 'longName': 'Tommy Tremble'}, {'posADP': 'RB93', 'overallADP': '303.0', 'playerID': '3122672', 'longName': 'Royce Freeman'}, {'posADP': 'WR129', 'overallADP': '304.0', 'playerID': '4432620', 'longName': 'Parker Washington'}, {'posADP': 'WR130', 'overallADP': '305.0', 'playerID': '4567096', 'longName': 'John Metchie III'}, {'posADP': 'WR131', 'overallADP': '306.0', 'playerID': '4430191', 'longName': 'Skyy Moore'}, {'posADP': 'WR132', 'overallADP': '307.0', 'playerID': '4567506', 'longName': 'Tahj Washington'}, {'posADP': 'RB94', 'overallADP': '308.0', 'playerID': '4570561', 'longName': 'Eric Gray'}, {'posADP': 'TE50', 'overallADP': '308.0', 'playerID': '4240472', 'longName': 'Noah Gray'}, {'posADP': 'WR133', 'overallADP': '309.0', 'playerID': '4427278', 'longName': 'Xavier Gipson'}, {'posADP': 'RB95', 'overallADP': '310.0', 'playerID': '3149687', 'longName': 'Chris Brooks'}, {'posADP': 'RB96', 'overallADP': '311.0', 'playerID': '3139602', 'longName': \"D'Ernest Johnson\"}, {'posADP': 'WR134', 'overallADP': '312.0', 'playerID': '4361426', 'longName': 'Justin Shorter'}, {'posADP': 'WR135', 'overallADP': '314.0', 'playerID': '4360405', 'longName': 'Jake Bobo'}, {'posADP': 'QB42', 'overallADP': '315.0', 'playerID': '4240703', 'longName': 'Kenny Pickett'}, {'posADP': 'RB97', 'overallADP': '316.0', 'playerID': '4887558', 'longName': 'Emanuel Wilson'}, {'posADP': 'WR136', 'overallADP': '317.0', 'playerID': '4039057', 'longName': \"Lil'Jordan Humphrey\"}, {'posADP': 'DST31', 'overallADP': '317.0', 'teamAbv': 'ARI', 'longName': 'Arizona Cardinals DST', 'teamID': '1'}, {'posADP': 'RB98', 'overallADP': '318.0', 'playerID': '4429939', 'longName': 'Jawhar Jordan'}, {'posADP': 'RB99', 'overallADP': '318.0', 'playerID': '3059915', 'longName': 'Kareem Hunt'}, {'posADP': 'WR137', 'overallADP': '319.0', 'playerID': '3120348', 'longName': 'JuJu Smith-Schuster'}, {'posADP': 'WR138', 'overallADP': '320.0', 'playerID': '4361577', 'longName': 'Dyami Brown'}, {'posADP': 'TE51', 'overallADP': '321.0', 'playerID': '2573401', 'longName': 'Tyler Higbee'}, {'posADP': 'RB100', 'overallADP': '322.0', 'playerID': '4429001', 'longName': 'Jase McClellan'}, {'posADP': 'WR139', 'overallADP': '323.0', 'playerID': '4427985', 'longName': 'Bub Means'}, {'posADP': 'RB101', 'overallADP': '324.0', 'playerID': '4430871', 'longName': 'Sean Tucker'}, {'posADP': 'WR140', 'overallADP': '325.0', 'playerID': '4569371', 'longName': 'Isaiah Williams'}, {'posADP': 'RB102', 'overallADP': '327.0', 'playerID': '4362619', 'longName': 'Chris Rodriguez Jr.'}, {'posADP': 'WR141', 'overallADP': '328.0', 'playerID': '4369863', 'longName': 'Cedric Tillman'}, {'posADP': 'RB103', 'overallADP': '329.0', 'playerID': '4685035', 'longName': 'Zach Evans'}, {'posADP': 'TE52', 'overallADP': '330.0', 'playerID': '3050481', 'longName': 'Tanner Hudson'}, {'posADP': 'WR142', 'overallADP': '331.0', 'playerID': '3929785', 'longName': 'Nick Westbrook-Ikhine'}, {'posADP': 'WR143', 'overallADP': '332.0', 'playerID': '4257188', 'longName': 'Charlie Jones'}, {'posADP': 'RB104', 'overallADP': '334.0', 'playerID': '4360569', 'longName': 'Jordan Mason'}, {'posADP': 'WR144', 'overallADP': '335.0', 'playerID': '3930066', 'longName': 'Van Jefferson'}, {'posADP': 'WR145', 'overallADP': '336.0', 'playerID': '3676833', 'longName': 'KaVontae Turpin'}, {'posADP': 'QB43', 'overallADP': '337.0', 'playerID': '2969939', 'longName': 'Jameis Winston'}, {'posADP': 'QB44', 'overallADP': '338.0', 'playerID': '3044720', 'longName': 'Joshua Dobbs'}, {'posADP': 'RB105', 'overallADP': '340.0', 'playerID': '3119195', 'longName': 'Chase Edmonds'}, {'posADP': 'WR146', 'overallADP': '341.0', 'playerID': '4570409', 'longName': 'David Bell'}, {'posADP': 'WR147', 'overallADP': '342.0', 'playerID': '4050373', 'longName': 'Quez Watkins'}, {'posADP': 'QB45', 'overallADP': '343.0', 'playerID': '3886812', 'longName': 'Jake Browning'}, {'posADP': 'TE53', 'overallADP': '344.0', 'playerID': '4362504', 'longName': 'Brevin Jordan'}, {'posADP': 'WR148', 'overallADP': '345.0', 'playerID': '4429684', 'longName': 'Anthony Gould'}, {'posADP': 'TE54', 'overallADP': '346.0', 'playerID': '4372096', 'longName': 'Luke Schoonmaker'}, {'posADP': 'TE55', 'overallADP': '347.0', 'playerID': '4361438', 'longName': 'Cole Turner'}, {'posADP': 'WR149', 'overallADP': '348.0', 'playerID': '4565908', 'longName': 'Tyler Scott'}, {'posADP': 'TE56', 'overallADP': '349.0', 'playerID': '4039160', 'longName': 'Kylen Granson'}, {'posADP': 'WR150', 'overallADP': '350.0', 'playerID': '4362477', 'longName': 'Derius Davis'}, {'posADP': 'RB106', 'overallADP': '351.0', 'playerID': '16002', 'longName': 'Kyle Juszczyk'}, {'posADP': 'TE57', 'overallADP': '352.0', 'playerID': '4430539', 'longName': 'Brenton Strange'}, {'posADP': 'QB46', 'overallADP': '353.0', 'playerID': '4360799', 'longName': 'Jordan Travis'}, {'posADP': 'QB47', 'overallADP': '354.0', 'playerID': '4426339', 'longName': 'Spencer Rattler'}, {'posADP': 'RB107', 'overallADP': '355.0', 'playerID': '4362478', 'longName': 'Emari Demercado'}, {'posADP': 'WR151', 'overallADP': '356.0', 'playerID': '3917914', 'longName': 'Olamide Zaccheaus'}, {'posADP': 'WR152', 'overallADP': '357.0', 'playerID': '4367175', 'longName': 'Kyle Philips'}, {'posADP': 'RB108', 'overallADP': '358.0', 'playerID': '3916430', 'longName': 'Nyheim Hines'}, {'posADP': 'RB109', 'overallADP': '359.0', 'playerID': '4429610', 'longName': 'Daijun Edwards'}, {'posADP': 'RB110', 'overallADP': '360.0', 'playerID': '4429012', 'longName': 'Kendall Milton'}, {'posADP': 'WR153', 'overallADP': '361.0', 'playerID': '4036335', 'longName': 'Cedrick Wilson Jr.'}, {'posADP': 'RB111', 'overallADP': '362.0', 'playerID': '4565761', 'longName': 'Emani Bailey'}, {'posADP': 'WR154', 'overallADP': '363.0', 'playerID': '3121410', 'longName': 'Parris Campbell'}, {'posADP': 'WR155', 'overallADP': '364.0', 'playerID': '3931391', 'longName': 'Trenton Irwin'}, {'posADP': 'TE58', 'overallADP': '365.0', 'playerID': '3043275', 'longName': 'Austin Hooper'}, {'posADP': 'WR156', 'overallADP': '366.0', 'playerID': '4360306', 'longName': 'Justyn Ross'}, {'posADP': 'QB48', 'overallADP': '367.0', 'playerID': '4242546', 'longName': 'Davis Mills'}, {'posADP': 'RB112', 'overallADP': '368.0', 'playerID': '4569156', 'longName': 'Michael Wiley'}, {'posADP': 'WR157', 'overallADP': '369.0', 'playerID': '3052056', 'longName': 'River Cracraft'}, {'posADP': 'QB49', 'overallADP': '370.0', 'playerID': '3892775', 'longName': 'Jarrett Stidham'}, {'posADP': 'TE59', 'overallADP': '371.0', 'playerID': '4361372', 'longName': 'Jeremy Ruckert'}, {'posADP': 'TE60', 'overallADP': '372.0', 'playerID': '3052096', 'longName': 'Johnny Mundt'}, {'posADP': 'WR158', 'overallADP': '373.0', 'playerID': '4242540', 'longName': 'Isaiah Hodgins'}, {'posADP': 'WR159', 'overallADP': '374.0', 'playerID': '3115255', 'longName': 'Brandon Powell'}, {'posADP': 'TE61', 'overallADP': '375.0', 'playerID': '4430802', 'longName': 'Darnell Washington'}, {'posADP': 'WR160', 'overallADP': '376.0', 'playerID': '4426479', 'longName': 'Cornelius Johnson'}, {'posADP': 'TE62', 'overallADP': '377.0', 'playerID': '4373634', 'longName': 'Dallin Holker'}, {'posADP': 'TE63', 'overallADP': '378.0', 'playerID': '3127310', 'longName': 'Drew Sample'}, {'posADP': 'TE64', 'overallADP': '380.0', 'playerID': '4384171', 'longName': 'Tanner McLachlan'}, {'posADP': 'WR161', 'overallADP': '381.0', 'playerID': '4240380', 'longName': 'KJ Hamler'}, {'posADP': 'TE65', 'overallADP': '382.0', 'playerID': '3921690', 'longName': 'Josh Oliver'}, {'posADP': 'WR162', 'overallADP': '383.0', 'playerID': '4362921', 'longName': 'Tyquan Thornton'}, {'posADP': 'RB113', 'overallADP': '384.0', 'playerID': '4426891', 'longName': 'Isaiah Spiller'}, {'posADP': 'TE66', 'overallADP': '385.0', 'playerID': '4242392', 'longName': 'Brock Wright'}, {'posADP': 'QB50', 'overallADP': '386.0', 'playerID': '16760', 'longName': 'Jimmy Garoppolo'}, {'posADP': 'WR163', 'overallADP': '387.0', 'playerID': '4243160', 'longName': 'Laviska Shenault Jr.'}, {'posADP': 'QB51', 'overallADP': '388.0', 'playerID': '14163', 'longName': 'Tyrod Taylor'}, {'posADP': 'QB52', 'overallADP': '389.0', 'playerID': '3116407', 'longName': 'Mason Rudolph'}, {'posADP': 'WR164', 'overallADP': '390.0', 'playerID': '2576716', 'longName': 'Jamison Crowder'}, {'posADP': 'RB114', 'overallADP': '391.0', 'playerID': '4240021', 'longName': 'Cam Akers'}, {'posADP': 'TE67', 'overallADP': '392.0', 'playerID': '4374045', 'longName': 'Teagan Quitoriano'}, {'posADP': 'RB115', 'overallADP': '393.0', 'playerID': '4714365', 'longName': 'Carson Steele'}, {'posADP': 'QB53', 'overallADP': '394.0', 'playerID': '3924327', 'longName': 'Drew Lock'}, {'posADP': 'TE68', 'overallADP': '395.0', 'playerID': '4372505', 'longName': 'Payne Durham'}, {'posADP': 'WR165', 'overallADP': '396.0', 'playerID': '4372063', 'longName': 'Ronnie Bell'}, {'posADP': 'TE69', 'overallADP': '397.0', 'playerID': '4430723', 'longName': 'Jared Wiley'}, {'posADP': 'WR166', 'overallADP': '398.0', 'playerID': '4427575', 'longName': \"Jha'Quan Jackson\"}, {'posADP': 'WR167', 'overallADP': '399.0', 'playerID': '4411193', 'longName': 'Deonte Harty'}, {'posADP': 'TE70', 'overallADP': '400.0', 'playerID': '3128452', 'longName': 'Jordan Akins'}, {'posADP': 'RB116', 'overallADP': '401.0', 'playerID': '3139925', 'longName': 'Rashaad Penny'}, {'posADP': 'QB54', 'overallADP': '402.0', 'playerID': '4360698', 'longName': 'Joe Milton III'}, {'posADP': 'WR168', 'overallADP': '403.0', 'playerID': '4039050', 'longName': 'Devin Duvernay'}, {'posADP': 'RB117', 'overallADP': '404.0', 'playerID': '4372071', 'longName': 'Hassan Haskins'}, {'posADP': 'QB55', 'overallADP': '405.0', 'playerID': '4240069', 'longName': 'Malik Cunningham'}, {'posADP': 'RB118', 'overallADP': '406.0', 'playerID': '4427728', 'longName': 'Zonovan Knight'}, {'posADP': 'RB119', 'overallADP': '407.0', 'playerID': '4372526', 'longName': 'Deneric Prince'}]}}\n"
     ]
    }
   ],
   "source": [
    "# scrape ADP for all players\n",
    "url_adp = \"https://tank01-nfl-live-in-game-real-time-statistics-nfl.p.rapidapi.com/getNFLADP\"\n",
    "querystring = {\"adpType\":\"PPR\"}\n",
    "\n",
    "headers = {\n",
    "\t\"X-RapidAPI-Key\": \"9fe8d69ba4mshe735386b91fe9ffp10e56fjsn7c4b2b876e53\",\n",
    "\t\"X-RapidAPI-Host\": \"tank01-nfl-live-in-game-real-time-statistics-nfl.p.rapidapi.com\"\n",
    "}\n",
    "\n",
    "response_adp = requests.get(url_adp, headers=headers, params=querystring)\n",
    "\n",
    "print(response_adp.json())"
   ]
  },
  {
   "cell_type": "code",
   "execution_count": 49,
   "id": "b1a5f477",
   "metadata": {},
   "outputs": [
    {
     "name": "stdout",
     "output_type": "stream",
     "text": [
      "  posADP overallADP playerID             longName\n",
      "0    RB1        1.0  3117251  Christian McCaffrey\n",
      "1    WR1        2.0  4241389          CeeDee Lamb\n",
      "2    WR2        3.0  3116406          Tyreek Hill\n",
      "3    WR3        4.0  4362628        Ja'Marr Chase\n",
      "4    WR4        5.5  4262921     Justin Jefferson\n"
     ]
    }
   ],
   "source": [
    "adp_dict = response_adp.json()\n",
    "adp_list = adp_dict['body']['adpList']\n",
    "adp_df = pd.json_normalize(adp_list)\n",
    "adp_df = adp_df.drop('teamAbv', axis=1)\n",
    "adp_df = adp_df.drop('teamID', axis=1)\n",
    "print(adp_df.head())\n",
    "adp_df.to_csv('adp.csv', index=False)"
   ]
  },
  {
   "cell_type": "code",
   "execution_count": 3,
   "id": "ce8331fd",
   "metadata": {},
   "outputs": [
    {
     "name": "stdout",
     "output_type": "stream",
     "text": [
      "Done with week 1.\n",
      "Done with week 2.\n",
      "Done with week 3.\n",
      "Done with week 4.\n",
      "Done with week 5.\n",
      "Done with week 6.\n",
      "Done with week 7.\n",
      "Done with week 8.\n",
      "Done with week 9.\n",
      "Done with week 10.\n",
      "Done with week 11.\n",
      "Done with week 12.\n",
      "Done with week 13.\n",
      "Done with week 14.\n",
      "Done with week 15.\n",
      "Done with week 16.\n",
      "Done with week 17.\n",
      "Done with week 18.\n"
     ]
    }
   ],
   "source": [
    "# scrape projected stats for all weeks\n",
    "url_projected = \"https://tank01-nfl-live-in-game-real-time-statistics-nfl.p.rapidapi.com/getNFLProjections\"\n",
    "\n",
    "player_projected_stats_df = None\n",
    "defense_projected_stats_df = None\n",
    "NUM_WEEKS_IN_SEASON = 18\n",
    "\n",
    "for week in range(1, NUM_WEEKS_IN_SEASON + 1):\n",
    "    querystring_projected = {\"week\":f\"{week}\"}\n",
    "    response_projected = requests.get(url_projected, headers=headers, params=querystring_projected)\n",
    "    if response_projected is not None:\n",
    "        projected_dict = response_projected.json()\n",
    "        defense_projected_dict = projected_dict['body']['teamDefenseProjections']\n",
    "        player_projected_dict = projected_dict['body']['playerProjections']\n",
    "        defense_df = pd.DataFrame(defense_projected_dict.values())\n",
    "        player_df = pd.json_normalize(player_projected_dict.values())\n",
    "        player_df['week'] = week\n",
    "        defense_df['week'] = week\n",
    "        if player_projected_stats_df is None:\n",
    "            player_projected_stats_df = player_df\n",
    "        else:\n",
    "            player_projected_stats_df = pd.concat([player_projected_stats_df, player_df], axis=0, ignore_index=True)\n",
    "        if defense_projected_stats_df is None:\n",
    "            defense_projected_stats_df = defense_df\n",
    "        else:\n",
    "            defense_projected_stats_df = pd.concat([defense_projected_stats_df, defense_df], axis=0, ignore_index=True)\n",
    "        print(f'Done with week {week}.')\n",
    "player_projected_stats_df.to_csv('original_player_projected_stats.csv', index=False)\n",
    "defense_projected_stats_df.to_csv('original_defense_projected_stats.csv', index=False)\n"
   ]
  },
  {
   "cell_type": "code",
   "execution_count": 1,
   "id": "8fc92482",
   "metadata": {},
   "outputs": [],
   "source": [
    "import nfl_data_py as nfl"
   ]
  },
  {
   "cell_type": "code",
   "execution_count": 5,
   "id": "4e7a808a",
   "metadata": {},
   "outputs": [
    {
     "name": "stdout",
     "output_type": "stream",
     "text": [
      "Downcasting floats.\n"
     ]
    }
   ],
   "source": [
    "weekly_datasets = nfl.import_weekly_data([2021, 2022, 2023], downcast=True)"
   ]
  },
  {
   "cell_type": "code",
   "execution_count": 6,
   "id": "a5e0536e",
   "metadata": {},
   "outputs": [
    {
     "name": "stdout",
     "output_type": "stream",
     "text": [
      "    player_id player_name player_display_name position position_group  \\\n",
      "0  00-0019596     T.Brady           Tom Brady       QB             QB   \n",
      "1  00-0019596     T.Brady           Tom Brady       QB             QB   \n",
      "2  00-0019596     T.Brady           Tom Brady       QB             QB   \n",
      "3  00-0019596     T.Brady           Tom Brady       QB             QB   \n",
      "4  00-0019596     T.Brady           Tom Brady       QB             QB   \n",
      "\n",
      "                                        headshot_url recent_team  season  \\\n",
      "0  https://static.www.nfl.com/image/private/f_aut...          TB    2021   \n",
      "1  https://static.www.nfl.com/image/private/f_aut...          TB    2021   \n",
      "2  https://static.www.nfl.com/image/private/f_aut...          TB    2021   \n",
      "3  https://static.www.nfl.com/image/private/f_aut...          TB    2021   \n",
      "4  https://static.www.nfl.com/image/private/f_aut...          TB    2021   \n",
      "\n",
      "   week season_type  ... receiving_first_downs  receiving_epa  \\\n",
      "0     1         REG  ...                   0.0            n/a   \n",
      "1     2         REG  ...                   0.0            n/a   \n",
      "2     3         REG  ...                   0.0            n/a   \n",
      "3     4         REG  ...                   0.0            n/a   \n",
      "4     5         REG  ...                   0.0            n/a   \n",
      "\n",
      "   receiving_2pt_conversions  racr  target_share  air_yards_share  wopr  \\\n",
      "0                          0   n/a           n/a              n/a   n/a   \n",
      "1                          0   n/a           n/a              n/a   n/a   \n",
      "2                          0   n/a           n/a              n/a   n/a   \n",
      "3                          0   n/a           n/a              n/a   n/a   \n",
      "4                          0   n/a           n/a              n/a   n/a   \n",
      "\n",
      "   special_teams_tds  fantasy_points  fantasy_points_ppr  \n",
      "0                0.0       27.160000           27.160000  \n",
      "1                0.0       29.639999           29.639999  \n",
      "2                0.0       28.680000           28.680000  \n",
      "3                0.0       11.060000           11.060000  \n",
      "4                0.0       37.740002           37.740002  \n",
      "\n",
      "[5 rows x 53 columns]\n"
     ]
    }
   ],
   "source": [
    "weekly_datasets = weekly_datasets.fillna('n/a')\n",
    "print(weekly_datasets.head())\n",
    "weekly_datasets.to_csv('original_weekly_player_stats(2021-2023).csv', index=False)"
   ]
  },
  {
   "cell_type": "code",
   "execution_count": 7,
   "id": "d04fe41e",
   "metadata": {},
   "outputs": [
    {
     "name": "stdout",
     "output_type": "stream",
     "text": [
      "   season game_type team  week     gsis_id position         full_name  \\\n",
      "0    2021       REG  ARI     1  00-0033258       TE   Darrell Daniels   \n",
      "1    2021       REG  ARI     1  00-0034473       LB    Dennis Gardeck   \n",
      "2    2021       REG  ARI     1  00-0035126       WR    Antoine Wesley   \n",
      "3    2021       REG  ATL     1  00-0031583       DT     Grady Jarrett   \n",
      "4    2021       REG  ATL     1  00-0030010       LB  Brandon Copeland   \n",
      "\n",
      "  first_name last_name report_primary_injury report_secondary_injury  \\\n",
      "0    Darrell   Daniels                   n/a                     n/a   \n",
      "1     Dennis   Gardeck                  Knee                    Hand   \n",
      "2    Antoine    Wesley               Illness                     n/a   \n",
      "3      Grady   Jarrett                   n/a                     n/a   \n",
      "4    Brandon  Copeland                   n/a                     n/a   \n",
      "\n",
      "  report_status               practice_primary_injury  \\\n",
      "0           n/a                                   Toe   \n",
      "1           Out                                  Knee   \n",
      "2           Out                               Illness   \n",
      "3           n/a  Not injury related - personal matter   \n",
      "4           n/a                             Hamstring   \n",
      "\n",
      "  practice_secondary_injury                  practice_status  \\\n",
      "0                       n/a   Full Participation in Practice   \n",
      "1                      Hand  Did Not Participate In Practice   \n",
      "2                       n/a  Did Not Participate In Practice   \n",
      "3                       n/a  Did Not Participate In Practice   \n",
      "4                       n/a   Full Participation in Practice   \n",
      "\n",
      "        date_modified  \n",
      "0 2021-09-10 19:35:39  \n",
      "1 2021-09-10 19:36:51  \n",
      "2 2021-09-10 19:37:05  \n",
      "3 2021-09-10 09:29:27  \n",
      "4 2021-09-10 18:05:56  \n"
     ]
    }
   ],
   "source": [
    "injuries = nfl.import_injuries([2021,2022,2023])\n",
    "injuries = injuries.fillna('n/a')\n",
    "print(injuries.head())\n",
    "injuries.to_csv('original_injuries(2021-2023).csv', index=False)"
   ]
  },
  {
   "cell_type": "code",
   "execution_count": 3,
   "id": "03b6fc82",
   "metadata": {},
   "outputs": [],
   "source": [
    "rosters = nfl.import_seasonal_rosters([2021, 2022, 2023])\n",
    "rosters.to_csv('seasonal_rosters(2021-2023).csv')"
   ]
  },
  {
   "cell_type": "code",
   "execution_count": 8,
   "id": "d93c8b08",
   "metadata": {},
   "outputs": [],
   "source": [
    "weekly_rosters_2023 = nfl.import_weekly_rosters([2023])\n",
    "weekly_rosters_2023.to_csv('weekly_rosters_2023.csv')\n",
    "weekly_rosters_2022 = nfl.import_weekly_rosters([2022])\n",
    "weekly_rosters_2022.to_csv('weekly_rosters_2022.csv')\n",
    "weekly_rosters_2021 = nfl.import_weekly_rosters([2021])\n",
    "weekly_rosters_2021.to_csv('weekly_rosters_2021.csv')\n"
   ]
  },
  {
   "cell_type": "code",
   "execution_count": 10,
   "id": "5520d006",
   "metadata": {},
   "outputs": [
    {
     "name": "stdout",
     "output_type": "stream",
     "text": [
      "Downcasting floats.\n"
     ]
    }
   ],
   "source": [
    "ftn_stats = nfl.import_ftn_data([2022, 2023], downcast=True, thread_requests=False)"
   ]
  },
  {
   "cell_type": "code",
   "execution_count": 12,
   "id": "373a39ef",
   "metadata": {},
   "outputs": [],
   "source": [
    "ftn_stats.to_csv('original_ftn_stats.csv', index=False)"
   ]
  },
  {
   "cell_type": "code",
   "execution_count": 2,
   "id": "97db860a",
   "metadata": {},
   "outputs": [
    {
     "name": "stderr",
     "output_type": "stream",
     "text": [
      "WARNING:root:The win totals data source is currently in flux and may be out of date.\n"
     ]
    }
   ],
   "source": [
    "win_totals = nfl.import_win_totals([2021, 2022, 2023])"
   ]
  },
  {
   "cell_type": "code",
   "execution_count": 3,
   "id": "ecbcafa8",
   "metadata": {},
   "outputs": [],
   "source": [
    "win_totals.to_csv('win_totals.csv', index=False)"
   ]
  }
 ],
 "metadata": {
  "kernelspec": {
   "display_name": "myenv",
   "language": "python",
   "name": "python3"
  },
  "language_info": {
   "codemirror_mode": {
    "name": "ipython",
    "version": 3
   },
   "file_extension": ".py",
   "mimetype": "text/x-python",
   "name": "python",
   "nbconvert_exporter": "python",
   "pygments_lexer": "ipython3",
   "version": "3.9.12"
  }
 },
 "nbformat": 4,
 "nbformat_minor": 5
}
